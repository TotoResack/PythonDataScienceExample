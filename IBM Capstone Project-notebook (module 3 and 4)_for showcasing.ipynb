{
 "cells": [
  {
   "cell_type": "markdown",
   "metadata": {},
   "source": [
    "# IBM Capstone Project - New York Housing"
   ]
  },
  {
   "cell_type": "markdown",
   "metadata": {
    "collapsed": true
   },
   "source": [
    "# Question: Is there a strong correlation between the number of the top1 complaint per house and its building characteristics? \n",
    "(This is a compilation of module 3 and 4 of the IBM capstone project)\n"
   ]
  },
  {
   "cell_type": "markdown",
   "metadata": {},
   "source": [
    "\n",
    "\n",
    "### Setup\n"
   ]
  },
  {
   "cell_type": "markdown",
   "metadata": {},
   "source": [
    "#### Load required libraries"
   ]
  },
  {
   "cell_type": "code",
   "execution_count": 3,
   "metadata": {},
   "outputs": [],
   "source": [
    "import itertools\n",
    "import numpy as np\n",
    "import matplotlib.pyplot as plt\n",
    "from matplotlib.ticker import NullFormatter\n",
    "import pandas as pd\n",
    "import numpy as np\n",
    "import matplotlib.ticker as ticker\n",
    "from sklearn import preprocessing\n",
    "%matplotlib inline\n",
    "\n",
    "import types\n",
    "from botocore.client import Config\n",
    "import ibm_boto3\n",
    "\n",
    "import seaborn as sns   #e.g., for plotting regression plot "
   ]
  },
  {
   "cell_type": "markdown",
   "metadata": {},
   "source": [
    "#### Store credentials"
   ]
  },
  {
   "cell_type": "code",
   "execution_count": 4,
   "metadata": {},
   "outputs": [],
   "source": [
    "client_71372c36e9a34232ac120f9c0e55467b = ibm_boto3.client(service_name='s3',\n",
    "    ibm_api_key_id='UjhQYYrdlDcYsA70JYhXf8EZIV0_TAtHcTmhFOLNivwU',\n",
    "    ibm_auth_endpoint=\"https://iam.cloud.ibm.com/oidc/token\",\n",
    "    config=Config(signature_version='oauth'),\n",
    "    endpoint_url='https://s3.eu-geo.objectstorage.service.networklayer.com')\n",
    "\n",
    "client_cred=client_71372c36e9a34232ac120f9c0e55467b\n",
    "\n",
    "Bucket='datascienceandmachinelearningcaps-donotdelete-pr-7g85dz51ixpokk'\n",
    "\n",
    "bucket=Bucket\n",
    "\n",
    "#body = client_71372c36e9a3432ac120f9c0e55467b.get_object(Bucket='datascienceandmachinelearningcaps-donotdelete-pr-7g85dz51ixpokk',Key='BK_18v1.csv')['Body']\n",
    "# add missing __iter__ method, so pandas accepts body as file-like object\n",
    "#if not hasattr(body, \"__iter__\"): body.__iter__ = types.MethodType( __iter__, body )"
   ]
  },
  {
   "cell_type": "markdown",
   "metadata": {},
   "source": [
    "## 1. Find top1 complaint for brooklyn and ceate new df as base for further investigation"
   ]
  },
  {
   "cell_type": "markdown",
   "metadata": {},
   "source": [
    "#### Load data"
   ]
  },
  {
   "cell_type": "markdown",
   "metadata": {},
   "source": [
    "Loading data out of csv.file from url"
   ]
  },
  {
   "cell_type": "code",
   "execution_count": 5,
   "metadata": {},
   "outputs": [],
   "source": [
    "df_NYC_311_complaints_NEW1 = pd.read_csv('https://cocl.us/311_NYC_Dataset')"
   ]
  },
  {
   "cell_type": "code",
   "execution_count": 8,
   "metadata": {},
   "outputs": [
    {
     "data": {
      "text/html": [
       "<div>\n",
       "<style scoped>\n",
       "    .dataframe tbody tr th:only-of-type {\n",
       "        vertical-align: middle;\n",
       "    }\n",
       "\n",
       "    .dataframe tbody tr th {\n",
       "        vertical-align: top;\n",
       "    }\n",
       "\n",
       "    .dataframe thead th {\n",
       "        text-align: right;\n",
       "    }\n",
       "</style>\n",
       "<table border=\"1\" class=\"dataframe\">\n",
       "  <thead>\n",
       "    <tr style=\"text-align: right;\">\n",
       "      <th></th>\n",
       "      <th>Unnamed: 0</th>\n",
       "      <th>Unique Key</th>\n",
       "      <th>Created Date</th>\n",
       "      <th>Closed Date</th>\n",
       "      <th>Complaint Type</th>\n",
       "      <th>Location Type</th>\n",
       "      <th>Incident Zip</th>\n",
       "      <th>Incident Address</th>\n",
       "      <th>Street Name</th>\n",
       "      <th>Address Type</th>\n",
       "      <th>City</th>\n",
       "      <th>Status</th>\n",
       "      <th>Resolution Description</th>\n",
       "      <th>Borough</th>\n",
       "      <th>Latitude</th>\n",
       "      <th>Longitude</th>\n",
       "    </tr>\n",
       "  </thead>\n",
       "  <tbody>\n",
       "    <tr>\n",
       "      <th>0</th>\n",
       "      <td>0</td>\n",
       "      <td>45531130</td>\n",
       "      <td>02/02/2020 06:09:17 AM</td>\n",
       "      <td>NaN</td>\n",
       "      <td>HEAT/HOT WATER</td>\n",
       "      <td>RESIDENTIAL BUILDING</td>\n",
       "      <td>10019.0</td>\n",
       "      <td>426 WEST   52 STREET</td>\n",
       "      <td>WEST   52 STREET</td>\n",
       "      <td>ADDRESS</td>\n",
       "      <td>NEW YORK</td>\n",
       "      <td>Open</td>\n",
       "      <td>The following complaint conditions are still o...</td>\n",
       "      <td>MANHATTAN</td>\n",
       "      <td>40.765132</td>\n",
       "      <td>-73.988993</td>\n",
       "    </tr>\n",
       "    <tr>\n",
       "      <th>1</th>\n",
       "      <td>1</td>\n",
       "      <td>45529784</td>\n",
       "      <td>02/02/2020 02:15:24 PM</td>\n",
       "      <td>NaN</td>\n",
       "      <td>UNSANITARY CONDITION</td>\n",
       "      <td>RESIDENTIAL BUILDING</td>\n",
       "      <td>11204.0</td>\n",
       "      <td>1751 67 STREET</td>\n",
       "      <td>67 STREET</td>\n",
       "      <td>ADDRESS</td>\n",
       "      <td>BROOKLYN</td>\n",
       "      <td>Open</td>\n",
       "      <td>The following complaint conditions are still o...</td>\n",
       "      <td>BROOKLYN</td>\n",
       "      <td>40.618484</td>\n",
       "      <td>-73.992673</td>\n",
       "    </tr>\n",
       "    <tr>\n",
       "      <th>2</th>\n",
       "      <td>2</td>\n",
       "      <td>45527528</td>\n",
       "      <td>02/02/2020 02:27:41 AM</td>\n",
       "      <td>NaN</td>\n",
       "      <td>HEAT/HOT WATER</td>\n",
       "      <td>RESIDENTIAL BUILDING</td>\n",
       "      <td>11372.0</td>\n",
       "      <td>87-15 37 AVENUE</td>\n",
       "      <td>37 AVENUE</td>\n",
       "      <td>ADDRESS</td>\n",
       "      <td>Jackson Heights</td>\n",
       "      <td>Open</td>\n",
       "      <td>The following complaint conditions are still o...</td>\n",
       "      <td>QUEENS</td>\n",
       "      <td>40.750269</td>\n",
       "      <td>-73.879432</td>\n",
       "    </tr>\n",
       "    <tr>\n",
       "      <th>3</th>\n",
       "      <td>3</td>\n",
       "      <td>45530329</td>\n",
       "      <td>02/02/2020 12:13:18 PM</td>\n",
       "      <td>NaN</td>\n",
       "      <td>HEAT/HOT WATER</td>\n",
       "      <td>RESIDENTIAL BUILDING</td>\n",
       "      <td>10458.0</td>\n",
       "      <td>2405 SOUTHERN BOULEVARD</td>\n",
       "      <td>SOUTHERN BOULEVARD</td>\n",
       "      <td>ADDRESS</td>\n",
       "      <td>BRONX</td>\n",
       "      <td>Open</td>\n",
       "      <td>The following complaint conditions are still o...</td>\n",
       "      <td>BRONX</td>\n",
       "      <td>40.853773</td>\n",
       "      <td>-73.881558</td>\n",
       "    </tr>\n",
       "    <tr>\n",
       "      <th>4</th>\n",
       "      <td>4</td>\n",
       "      <td>45528814</td>\n",
       "      <td>02/02/2020 01:59:44 PM</td>\n",
       "      <td>NaN</td>\n",
       "      <td>APPLIANCE</td>\n",
       "      <td>RESIDENTIAL BUILDING</td>\n",
       "      <td>11209.0</td>\n",
       "      <td>223 78 STREET</td>\n",
       "      <td>78 STREET</td>\n",
       "      <td>ADDRESS</td>\n",
       "      <td>BROOKLYN</td>\n",
       "      <td>Open</td>\n",
       "      <td>The following complaint conditions are still o...</td>\n",
       "      <td>BROOKLYN</td>\n",
       "      <td>40.629745</td>\n",
       "      <td>-74.030533</td>\n",
       "    </tr>\n",
       "  </tbody>\n",
       "</table>\n",
       "</div>"
      ],
      "text/plain": [
       "   Unnamed: 0  Unique Key            Created Date Closed Date  \\\n",
       "0           0    45531130  02/02/2020 06:09:17 AM         NaN   \n",
       "1           1    45529784  02/02/2020 02:15:24 PM         NaN   \n",
       "2           2    45527528  02/02/2020 02:27:41 AM         NaN   \n",
       "3           3    45530329  02/02/2020 12:13:18 PM         NaN   \n",
       "4           4    45528814  02/02/2020 01:59:44 PM         NaN   \n",
       "\n",
       "         Complaint Type         Location Type  Incident Zip  \\\n",
       "0        HEAT/HOT WATER  RESIDENTIAL BUILDING       10019.0   \n",
       "1  UNSANITARY CONDITION  RESIDENTIAL BUILDING       11204.0   \n",
       "2        HEAT/HOT WATER  RESIDENTIAL BUILDING       11372.0   \n",
       "3        HEAT/HOT WATER  RESIDENTIAL BUILDING       10458.0   \n",
       "4             APPLIANCE  RESIDENTIAL BUILDING       11209.0   \n",
       "\n",
       "          Incident Address         Street Name Address Type             City  \\\n",
       "0     426 WEST   52 STREET    WEST   52 STREET      ADDRESS         NEW YORK   \n",
       "1           1751 67 STREET           67 STREET      ADDRESS         BROOKLYN   \n",
       "2          87-15 37 AVENUE           37 AVENUE      ADDRESS  Jackson Heights   \n",
       "3  2405 SOUTHERN BOULEVARD  SOUTHERN BOULEVARD      ADDRESS            BRONX   \n",
       "4            223 78 STREET           78 STREET      ADDRESS         BROOKLYN   \n",
       "\n",
       "  Status                             Resolution Description    Borough  \\\n",
       "0   Open  The following complaint conditions are still o...  MANHATTAN   \n",
       "1   Open  The following complaint conditions are still o...   BROOKLYN   \n",
       "2   Open  The following complaint conditions are still o...     QUEENS   \n",
       "3   Open  The following complaint conditions are still o...      BRONX   \n",
       "4   Open  The following complaint conditions are still o...   BROOKLYN   \n",
       "\n",
       "    Latitude  Longitude  \n",
       "0  40.765132 -73.988993  \n",
       "1  40.618484 -73.992673  \n",
       "2  40.750269 -73.879432  \n",
       "3  40.853773 -73.881558  \n",
       "4  40.629745 -74.030533  "
      ]
     },
     "execution_count": 8,
     "metadata": {},
     "output_type": "execute_result"
    }
   ],
   "source": [
    "df_NYC_311_complaints_NEW1.head()"
   ]
  },
  {
   "cell_type": "code",
   "execution_count": 9,
   "metadata": {},
   "outputs": [],
   "source": [
    "#instead of replacing the data frame in every cell, we just replace the old data frame by the updated but and give it the old name. \n",
    "    #Aferwards run the code in every cell again.\n",
    "df_NYC_311_complaints=df_NYC_311_complaints_NEW1"
   ]
  },
  {
   "cell_type": "markdown",
   "metadata": {},
   "source": [
    "### Create new data frame with top1 complaint type"
   ]
  },
  {
   "cell_type": "markdown",
   "metadata": {},
   "source": [
    "#### Top1 complaint type\n",
    "'HEAT/HOT WATER'"
   ]
  },
  {
   "cell_type": "markdown",
   "metadata": {},
   "source": [
    "#### Create new data frame with Top1 complaint type"
   ]
  },
  {
   "cell_type": "code",
   "execution_count": 11,
   "metadata": {},
   "outputs": [],
   "source": [
    "df_Top1_complaint = df_NYC_311_complaints[(df_NYC_311_complaints['Complaint Type'].isin(['HEAT/HOT WATER']))]"
   ]
  },
  {
   "cell_type": "code",
   "execution_count": 12,
   "metadata": {},
   "outputs": [
    {
     "data": {
      "text/html": [
       "<div>\n",
       "<style scoped>\n",
       "    .dataframe tbody tr th:only-of-type {\n",
       "        vertical-align: middle;\n",
       "    }\n",
       "\n",
       "    .dataframe tbody tr th {\n",
       "        vertical-align: top;\n",
       "    }\n",
       "\n",
       "    .dataframe thead th {\n",
       "        text-align: right;\n",
       "    }\n",
       "</style>\n",
       "<table border=\"1\" class=\"dataframe\">\n",
       "  <thead>\n",
       "    <tr style=\"text-align: right;\">\n",
       "      <th></th>\n",
       "      <th>Unnamed: 0</th>\n",
       "      <th>Unique Key</th>\n",
       "      <th>Created Date</th>\n",
       "      <th>Closed Date</th>\n",
       "      <th>Complaint Type</th>\n",
       "      <th>Location Type</th>\n",
       "      <th>Incident Zip</th>\n",
       "      <th>Incident Address</th>\n",
       "      <th>Street Name</th>\n",
       "      <th>Address Type</th>\n",
       "      <th>City</th>\n",
       "      <th>Status</th>\n",
       "      <th>Resolution Description</th>\n",
       "      <th>Borough</th>\n",
       "      <th>Latitude</th>\n",
       "      <th>Longitude</th>\n",
       "    </tr>\n",
       "  </thead>\n",
       "  <tbody>\n",
       "    <tr>\n",
       "      <th>0</th>\n",
       "      <td>0</td>\n",
       "      <td>45531130</td>\n",
       "      <td>02/02/2020 06:09:17 AM</td>\n",
       "      <td>NaN</td>\n",
       "      <td>HEAT/HOT WATER</td>\n",
       "      <td>RESIDENTIAL BUILDING</td>\n",
       "      <td>10019.0</td>\n",
       "      <td>426 WEST   52 STREET</td>\n",
       "      <td>WEST   52 STREET</td>\n",
       "      <td>ADDRESS</td>\n",
       "      <td>NEW YORK</td>\n",
       "      <td>Open</td>\n",
       "      <td>The following complaint conditions are still o...</td>\n",
       "      <td>MANHATTAN</td>\n",
       "      <td>40.765132</td>\n",
       "      <td>-73.988993</td>\n",
       "    </tr>\n",
       "    <tr>\n",
       "      <th>2</th>\n",
       "      <td>2</td>\n",
       "      <td>45527528</td>\n",
       "      <td>02/02/2020 02:27:41 AM</td>\n",
       "      <td>NaN</td>\n",
       "      <td>HEAT/HOT WATER</td>\n",
       "      <td>RESIDENTIAL BUILDING</td>\n",
       "      <td>11372.0</td>\n",
       "      <td>87-15 37 AVENUE</td>\n",
       "      <td>37 AVENUE</td>\n",
       "      <td>ADDRESS</td>\n",
       "      <td>Jackson Heights</td>\n",
       "      <td>Open</td>\n",
       "      <td>The following complaint conditions are still o...</td>\n",
       "      <td>QUEENS</td>\n",
       "      <td>40.750269</td>\n",
       "      <td>-73.879432</td>\n",
       "    </tr>\n",
       "    <tr>\n",
       "      <th>3</th>\n",
       "      <td>3</td>\n",
       "      <td>45530329</td>\n",
       "      <td>02/02/2020 12:13:18 PM</td>\n",
       "      <td>NaN</td>\n",
       "      <td>HEAT/HOT WATER</td>\n",
       "      <td>RESIDENTIAL BUILDING</td>\n",
       "      <td>10458.0</td>\n",
       "      <td>2405 SOUTHERN BOULEVARD</td>\n",
       "      <td>SOUTHERN BOULEVARD</td>\n",
       "      <td>ADDRESS</td>\n",
       "      <td>BRONX</td>\n",
       "      <td>Open</td>\n",
       "      <td>The following complaint conditions are still o...</td>\n",
       "      <td>BRONX</td>\n",
       "      <td>40.853773</td>\n",
       "      <td>-73.881558</td>\n",
       "    </tr>\n",
       "    <tr>\n",
       "      <th>5</th>\n",
       "      <td>5</td>\n",
       "      <td>45530344</td>\n",
       "      <td>02/02/2020 07:52:08 AM</td>\n",
       "      <td>NaN</td>\n",
       "      <td>HEAT/HOT WATER</td>\n",
       "      <td>RESIDENTIAL BUILDING</td>\n",
       "      <td>10456.0</td>\n",
       "      <td>1131 MORRIS AVENUE</td>\n",
       "      <td>MORRIS AVENUE</td>\n",
       "      <td>ADDRESS</td>\n",
       "      <td>BRONX</td>\n",
       "      <td>Open</td>\n",
       "      <td>The following complaint conditions are still o...</td>\n",
       "      <td>BRONX</td>\n",
       "      <td>40.831381</td>\n",
       "      <td>-73.915218</td>\n",
       "    </tr>\n",
       "    <tr>\n",
       "      <th>7</th>\n",
       "      <td>7</td>\n",
       "      <td>45527939</td>\n",
       "      <td>02/02/2020 09:00:54 AM</td>\n",
       "      <td>NaN</td>\n",
       "      <td>HEAT/HOT WATER</td>\n",
       "      <td>RESIDENTIAL BUILDING</td>\n",
       "      <td>11372.0</td>\n",
       "      <td>37-20 81 STREET</td>\n",
       "      <td>81 STREET</td>\n",
       "      <td>ADDRESS</td>\n",
       "      <td>Jackson Heights</td>\n",
       "      <td>Open</td>\n",
       "      <td>The following complaint conditions are still o...</td>\n",
       "      <td>QUEENS</td>\n",
       "      <td>40.749320</td>\n",
       "      <td>-73.885190</td>\n",
       "    </tr>\n",
       "  </tbody>\n",
       "</table>\n",
       "</div>"
      ],
      "text/plain": [
       "   Unnamed: 0  Unique Key            Created Date Closed Date  Complaint Type  \\\n",
       "0           0    45531130  02/02/2020 06:09:17 AM         NaN  HEAT/HOT WATER   \n",
       "2           2    45527528  02/02/2020 02:27:41 AM         NaN  HEAT/HOT WATER   \n",
       "3           3    45530329  02/02/2020 12:13:18 PM         NaN  HEAT/HOT WATER   \n",
       "5           5    45530344  02/02/2020 07:52:08 AM         NaN  HEAT/HOT WATER   \n",
       "7           7    45527939  02/02/2020 09:00:54 AM         NaN  HEAT/HOT WATER   \n",
       "\n",
       "          Location Type  Incident Zip         Incident Address  \\\n",
       "0  RESIDENTIAL BUILDING       10019.0     426 WEST   52 STREET   \n",
       "2  RESIDENTIAL BUILDING       11372.0          87-15 37 AVENUE   \n",
       "3  RESIDENTIAL BUILDING       10458.0  2405 SOUTHERN BOULEVARD   \n",
       "5  RESIDENTIAL BUILDING       10456.0       1131 MORRIS AVENUE   \n",
       "7  RESIDENTIAL BUILDING       11372.0          37-20 81 STREET   \n",
       "\n",
       "          Street Name Address Type             City Status  \\\n",
       "0    WEST   52 STREET      ADDRESS         NEW YORK   Open   \n",
       "2           37 AVENUE      ADDRESS  Jackson Heights   Open   \n",
       "3  SOUTHERN BOULEVARD      ADDRESS            BRONX   Open   \n",
       "5       MORRIS AVENUE      ADDRESS            BRONX   Open   \n",
       "7           81 STREET      ADDRESS  Jackson Heights   Open   \n",
       "\n",
       "                              Resolution Description    Borough   Latitude  \\\n",
       "0  The following complaint conditions are still o...  MANHATTAN  40.765132   \n",
       "2  The following complaint conditions are still o...     QUEENS  40.750269   \n",
       "3  The following complaint conditions are still o...      BRONX  40.853773   \n",
       "5  The following complaint conditions are still o...      BRONX  40.831381   \n",
       "7  The following complaint conditions are still o...     QUEENS  40.749320   \n",
       "\n",
       "   Longitude  \n",
       "0 -73.988993  \n",
       "2 -73.879432  \n",
       "3 -73.881558  \n",
       "5 -73.915218  \n",
       "7 -73.885190  "
      ]
     },
     "execution_count": 12,
     "metadata": {},
     "output_type": "execute_result"
    }
   ],
   "source": [
    "df_Top1_complaint.head()"
   ]
  },
  {
   "cell_type": "markdown",
   "metadata": {},
   "source": [
    "#### Store new data frame (Top1_complaint) in new pickle file"
   ]
  },
  {
   "cell_type": "code",
   "execution_count": 13,
   "metadata": {},
   "outputs": [],
   "source": [
    "#create pickle file\n",
    "\n",
    "df_Top1_complaint.to_pickle('./df_Top1_complaint.pkl')   #\"df_test3\"=Name of data frame\n",
    "\n",
    "#upload pickle file\n",
    "\n",
    "client_cred.upload_file('./df_Top1_complaint.pkl',bucket,'df_Top1_complaint_cos.pkl')"
   ]
  },
  {
   "cell_type": "markdown",
   "metadata": {},
   "source": [
    "#### Reload data - for sake of interruption and shut down of kernel"
   ]
  },
  {
   "cell_type": "code",
   "execution_count": 3,
   "metadata": {
    "scrolled": true
   },
   "outputs": [],
   "source": [
    "# Download the file from Cloud Object Store:\n",
    "client_cred.download_file(Bucket=bucket,Key='df_Top1_complaint_cos.pkl',Filename='./df_Top1_complaint_local.pkl')\n",
    "\n",
    "#Create a Dataframe out of the file:\n",
    "df_Top1_complaint = pd.read_pickle('./df_Top1_complaint_local.pkl')"
   ]
  },
  {
   "cell_type": "code",
   "execution_count": 4,
   "metadata": {},
   "outputs": [
    {
     "data": {
      "text/html": [
       "<div>\n",
       "<style scoped>\n",
       "    .dataframe tbody tr th:only-of-type {\n",
       "        vertical-align: middle;\n",
       "    }\n",
       "\n",
       "    .dataframe tbody tr th {\n",
       "        vertical-align: top;\n",
       "    }\n",
       "\n",
       "    .dataframe thead th {\n",
       "        text-align: right;\n",
       "    }\n",
       "</style>\n",
       "<table border=\"1\" class=\"dataframe\">\n",
       "  <thead>\n",
       "    <tr style=\"text-align: right;\">\n",
       "      <th></th>\n",
       "      <th>Unnamed: 0</th>\n",
       "      <th>Unique Key</th>\n",
       "      <th>Created Date</th>\n",
       "      <th>Closed Date</th>\n",
       "      <th>Complaint Type</th>\n",
       "      <th>Location Type</th>\n",
       "      <th>Incident Zip</th>\n",
       "      <th>Incident Address</th>\n",
       "      <th>Street Name</th>\n",
       "      <th>Address Type</th>\n",
       "      <th>City</th>\n",
       "      <th>Status</th>\n",
       "      <th>Resolution Description</th>\n",
       "      <th>Borough</th>\n",
       "      <th>Latitude</th>\n",
       "      <th>Longitude</th>\n",
       "    </tr>\n",
       "  </thead>\n",
       "  <tbody>\n",
       "    <tr>\n",
       "      <th>0</th>\n",
       "      <td>0</td>\n",
       "      <td>45531130</td>\n",
       "      <td>02/02/2020 06:09:17 AM</td>\n",
       "      <td>NaN</td>\n",
       "      <td>HEAT/HOT WATER</td>\n",
       "      <td>RESIDENTIAL BUILDING</td>\n",
       "      <td>10019.0</td>\n",
       "      <td>426 WEST   52 STREET</td>\n",
       "      <td>WEST   52 STREET</td>\n",
       "      <td>ADDRESS</td>\n",
       "      <td>NEW YORK</td>\n",
       "      <td>Open</td>\n",
       "      <td>The following complaint conditions are still o...</td>\n",
       "      <td>MANHATTAN</td>\n",
       "      <td>40.765132</td>\n",
       "      <td>-73.988993</td>\n",
       "    </tr>\n",
       "    <tr>\n",
       "      <th>2</th>\n",
       "      <td>2</td>\n",
       "      <td>45527528</td>\n",
       "      <td>02/02/2020 02:27:41 AM</td>\n",
       "      <td>NaN</td>\n",
       "      <td>HEAT/HOT WATER</td>\n",
       "      <td>RESIDENTIAL BUILDING</td>\n",
       "      <td>11372.0</td>\n",
       "      <td>87-15 37 AVENUE</td>\n",
       "      <td>37 AVENUE</td>\n",
       "      <td>ADDRESS</td>\n",
       "      <td>Jackson Heights</td>\n",
       "      <td>Open</td>\n",
       "      <td>The following complaint conditions are still o...</td>\n",
       "      <td>QUEENS</td>\n",
       "      <td>40.750269</td>\n",
       "      <td>-73.879432</td>\n",
       "    </tr>\n",
       "    <tr>\n",
       "      <th>3</th>\n",
       "      <td>3</td>\n",
       "      <td>45530329</td>\n",
       "      <td>02/02/2020 12:13:18 PM</td>\n",
       "      <td>NaN</td>\n",
       "      <td>HEAT/HOT WATER</td>\n",
       "      <td>RESIDENTIAL BUILDING</td>\n",
       "      <td>10458.0</td>\n",
       "      <td>2405 SOUTHERN BOULEVARD</td>\n",
       "      <td>SOUTHERN BOULEVARD</td>\n",
       "      <td>ADDRESS</td>\n",
       "      <td>BRONX</td>\n",
       "      <td>Open</td>\n",
       "      <td>The following complaint conditions are still o...</td>\n",
       "      <td>BRONX</td>\n",
       "      <td>40.853773</td>\n",
       "      <td>-73.881558</td>\n",
       "    </tr>\n",
       "    <tr>\n",
       "      <th>5</th>\n",
       "      <td>5</td>\n",
       "      <td>45530344</td>\n",
       "      <td>02/02/2020 07:52:08 AM</td>\n",
       "      <td>NaN</td>\n",
       "      <td>HEAT/HOT WATER</td>\n",
       "      <td>RESIDENTIAL BUILDING</td>\n",
       "      <td>10456.0</td>\n",
       "      <td>1131 MORRIS AVENUE</td>\n",
       "      <td>MORRIS AVENUE</td>\n",
       "      <td>ADDRESS</td>\n",
       "      <td>BRONX</td>\n",
       "      <td>Open</td>\n",
       "      <td>The following complaint conditions are still o...</td>\n",
       "      <td>BRONX</td>\n",
       "      <td>40.831381</td>\n",
       "      <td>-73.915218</td>\n",
       "    </tr>\n",
       "    <tr>\n",
       "      <th>7</th>\n",
       "      <td>7</td>\n",
       "      <td>45527939</td>\n",
       "      <td>02/02/2020 09:00:54 AM</td>\n",
       "      <td>NaN</td>\n",
       "      <td>HEAT/HOT WATER</td>\n",
       "      <td>RESIDENTIAL BUILDING</td>\n",
       "      <td>11372.0</td>\n",
       "      <td>37-20 81 STREET</td>\n",
       "      <td>81 STREET</td>\n",
       "      <td>ADDRESS</td>\n",
       "      <td>Jackson Heights</td>\n",
       "      <td>Open</td>\n",
       "      <td>The following complaint conditions are still o...</td>\n",
       "      <td>QUEENS</td>\n",
       "      <td>40.749320</td>\n",
       "      <td>-73.885190</td>\n",
       "    </tr>\n",
       "  </tbody>\n",
       "</table>\n",
       "</div>"
      ],
      "text/plain": [
       "   Unnamed: 0  Unique Key            Created Date Closed Date  Complaint Type  \\\n",
       "0           0    45531130  02/02/2020 06:09:17 AM         NaN  HEAT/HOT WATER   \n",
       "2           2    45527528  02/02/2020 02:27:41 AM         NaN  HEAT/HOT WATER   \n",
       "3           3    45530329  02/02/2020 12:13:18 PM         NaN  HEAT/HOT WATER   \n",
       "5           5    45530344  02/02/2020 07:52:08 AM         NaN  HEAT/HOT WATER   \n",
       "7           7    45527939  02/02/2020 09:00:54 AM         NaN  HEAT/HOT WATER   \n",
       "\n",
       "          Location Type  Incident Zip         Incident Address  \\\n",
       "0  RESIDENTIAL BUILDING       10019.0     426 WEST   52 STREET   \n",
       "2  RESIDENTIAL BUILDING       11372.0          87-15 37 AVENUE   \n",
       "3  RESIDENTIAL BUILDING       10458.0  2405 SOUTHERN BOULEVARD   \n",
       "5  RESIDENTIAL BUILDING       10456.0       1131 MORRIS AVENUE   \n",
       "7  RESIDENTIAL BUILDING       11372.0          37-20 81 STREET   \n",
       "\n",
       "          Street Name Address Type             City Status  \\\n",
       "0    WEST   52 STREET      ADDRESS         NEW YORK   Open   \n",
       "2           37 AVENUE      ADDRESS  Jackson Heights   Open   \n",
       "3  SOUTHERN BOULEVARD      ADDRESS            BRONX   Open   \n",
       "5       MORRIS AVENUE      ADDRESS            BRONX   Open   \n",
       "7           81 STREET      ADDRESS  Jackson Heights   Open   \n",
       "\n",
       "                              Resolution Description    Borough   Latitude  \\\n",
       "0  The following complaint conditions are still o...  MANHATTAN  40.765132   \n",
       "2  The following complaint conditions are still o...     QUEENS  40.750269   \n",
       "3  The following complaint conditions are still o...      BRONX  40.853773   \n",
       "5  The following complaint conditions are still o...      BRONX  40.831381   \n",
       "7  The following complaint conditions are still o...     QUEENS  40.749320   \n",
       "\n",
       "   Longitude  \n",
       "0 -73.988993  \n",
       "2 -73.879432  \n",
       "3 -73.881558  \n",
       "5 -73.915218  \n",
       "7 -73.885190  "
      ]
     },
     "execution_count": 4,
     "metadata": {},
     "output_type": "execute_result"
    }
   ],
   "source": [
    "df_Top1_complaint.head(5)"
   ]
  },
  {
   "cell_type": "markdown",
   "metadata": {},
   "source": [
    "#### Build data frame of Top1 complaint for Brooklyn"
   ]
  },
  {
   "cell_type": "code",
   "execution_count": 14,
   "metadata": {},
   "outputs": [
    {
     "data": {
      "text/html": [
       "<div>\n",
       "<style scoped>\n",
       "    .dataframe tbody tr th:only-of-type {\n",
       "        vertical-align: middle;\n",
       "    }\n",
       "\n",
       "    .dataframe tbody tr th {\n",
       "        vertical-align: top;\n",
       "    }\n",
       "\n",
       "    .dataframe thead th {\n",
       "        text-align: right;\n",
       "    }\n",
       "</style>\n",
       "<table border=\"1\" class=\"dataframe\">\n",
       "  <thead>\n",
       "    <tr style=\"text-align: right;\">\n",
       "      <th></th>\n",
       "      <th>Unnamed: 0</th>\n",
       "      <th>Unique Key</th>\n",
       "      <th>Created Date</th>\n",
       "      <th>Closed Date</th>\n",
       "      <th>Complaint Type</th>\n",
       "      <th>Location Type</th>\n",
       "      <th>Incident Zip</th>\n",
       "      <th>Incident Address</th>\n",
       "      <th>Street Name</th>\n",
       "      <th>Address Type</th>\n",
       "      <th>City</th>\n",
       "      <th>Status</th>\n",
       "      <th>Resolution Description</th>\n",
       "      <th>Borough</th>\n",
       "      <th>Latitude</th>\n",
       "      <th>Longitude</th>\n",
       "    </tr>\n",
       "  </thead>\n",
       "  <tbody>\n",
       "    <tr>\n",
       "      <th>9</th>\n",
       "      <td>9</td>\n",
       "      <td>45529416</td>\n",
       "      <td>02/02/2020 10:59:58 AM</td>\n",
       "      <td>NaN</td>\n",
       "      <td>HEAT/HOT WATER</td>\n",
       "      <td>RESIDENTIAL BUILDING</td>\n",
       "      <td>11207.0</td>\n",
       "      <td>303 WYONA STREET</td>\n",
       "      <td>WYONA STREET</td>\n",
       "      <td>ADDRESS</td>\n",
       "      <td>BROOKLYN</td>\n",
       "      <td>Open</td>\n",
       "      <td>The following complaint conditions are still o...</td>\n",
       "      <td>BROOKLYN</td>\n",
       "      <td>40.671497</td>\n",
       "      <td>-73.892812</td>\n",
       "    </tr>\n",
       "    <tr>\n",
       "      <th>14</th>\n",
       "      <td>14</td>\n",
       "      <td>45529877</td>\n",
       "      <td>02/02/2020 04:09:57 PM</td>\n",
       "      <td>NaN</td>\n",
       "      <td>HEAT/HOT WATER</td>\n",
       "      <td>RESIDENTIAL BUILDING</td>\n",
       "      <td>11226.0</td>\n",
       "      <td>297 LENOX ROAD</td>\n",
       "      <td>LENOX ROAD</td>\n",
       "      <td>ADDRESS</td>\n",
       "      <td>BROOKLYN</td>\n",
       "      <td>Open</td>\n",
       "      <td>The following complaint conditions are still o...</td>\n",
       "      <td>BROOKLYN</td>\n",
       "      <td>40.654202</td>\n",
       "      <td>-73.949260</td>\n",
       "    </tr>\n",
       "    <tr>\n",
       "      <th>20</th>\n",
       "      <td>20</td>\n",
       "      <td>45529853</td>\n",
       "      <td>02/02/2020 10:35:22 AM</td>\n",
       "      <td>NaN</td>\n",
       "      <td>HEAT/HOT WATER</td>\n",
       "      <td>RESIDENTIAL BUILDING</td>\n",
       "      <td>11204.0</td>\n",
       "      <td>2270 64 STREET</td>\n",
       "      <td>64 STREET</td>\n",
       "      <td>ADDRESS</td>\n",
       "      <td>BROOKLYN</td>\n",
       "      <td>Open</td>\n",
       "      <td>The following complaint conditions are still o...</td>\n",
       "      <td>BROOKLYN</td>\n",
       "      <td>40.613564</td>\n",
       "      <td>-73.979362</td>\n",
       "    </tr>\n",
       "    <tr>\n",
       "      <th>21</th>\n",
       "      <td>21</td>\n",
       "      <td>45528464</td>\n",
       "      <td>02/02/2020 11:46:12 PM</td>\n",
       "      <td>NaN</td>\n",
       "      <td>HEAT/HOT WATER</td>\n",
       "      <td>RESIDENTIAL BUILDING</td>\n",
       "      <td>11210.0</td>\n",
       "      <td>1655 FLATBUSH AVENUE</td>\n",
       "      <td>FLATBUSH AVENUE</td>\n",
       "      <td>ADDRESS</td>\n",
       "      <td>BROOKLYN</td>\n",
       "      <td>Open</td>\n",
       "      <td>The complaint you filed is a duplicate of a co...</td>\n",
       "      <td>BROOKLYN</td>\n",
       "      <td>40.630096</td>\n",
       "      <td>-73.944757</td>\n",
       "    </tr>\n",
       "    <tr>\n",
       "      <th>26</th>\n",
       "      <td>26</td>\n",
       "      <td>45529887</td>\n",
       "      <td>02/02/2020 09:43:11 AM</td>\n",
       "      <td>NaN</td>\n",
       "      <td>HEAT/HOT WATER</td>\n",
       "      <td>RESIDENTIAL BUILDING</td>\n",
       "      <td>11238.0</td>\n",
       "      <td>500 ST JOHNS PLACE</td>\n",
       "      <td>ST JOHNS PLACE</td>\n",
       "      <td>ADDRESS</td>\n",
       "      <td>BROOKLYN</td>\n",
       "      <td>Open</td>\n",
       "      <td>The complaint you filed is a duplicate of a co...</td>\n",
       "      <td>BROOKLYN</td>\n",
       "      <td>40.673297</td>\n",
       "      <td>-73.961592</td>\n",
       "    </tr>\n",
       "  </tbody>\n",
       "</table>\n",
       "</div>"
      ],
      "text/plain": [
       "    Unnamed: 0  Unique Key            Created Date Closed Date  \\\n",
       "9            9    45529416  02/02/2020 10:59:58 AM         NaN   \n",
       "14          14    45529877  02/02/2020 04:09:57 PM         NaN   \n",
       "20          20    45529853  02/02/2020 10:35:22 AM         NaN   \n",
       "21          21    45528464  02/02/2020 11:46:12 PM         NaN   \n",
       "26          26    45529887  02/02/2020 09:43:11 AM         NaN   \n",
       "\n",
       "    Complaint Type         Location Type  Incident Zip      Incident Address  \\\n",
       "9   HEAT/HOT WATER  RESIDENTIAL BUILDING       11207.0      303 WYONA STREET   \n",
       "14  HEAT/HOT WATER  RESIDENTIAL BUILDING       11226.0        297 LENOX ROAD   \n",
       "20  HEAT/HOT WATER  RESIDENTIAL BUILDING       11204.0        2270 64 STREET   \n",
       "21  HEAT/HOT WATER  RESIDENTIAL BUILDING       11210.0  1655 FLATBUSH AVENUE   \n",
       "26  HEAT/HOT WATER  RESIDENTIAL BUILDING       11238.0    500 ST JOHNS PLACE   \n",
       "\n",
       "        Street Name Address Type      City Status  \\\n",
       "9      WYONA STREET      ADDRESS  BROOKLYN   Open   \n",
       "14       LENOX ROAD      ADDRESS  BROOKLYN   Open   \n",
       "20        64 STREET      ADDRESS  BROOKLYN   Open   \n",
       "21  FLATBUSH AVENUE      ADDRESS  BROOKLYN   Open   \n",
       "26   ST JOHNS PLACE      ADDRESS  BROOKLYN   Open   \n",
       "\n",
       "                               Resolution Description   Borough   Latitude  \\\n",
       "9   The following complaint conditions are still o...  BROOKLYN  40.671497   \n",
       "14  The following complaint conditions are still o...  BROOKLYN  40.654202   \n",
       "20  The following complaint conditions are still o...  BROOKLYN  40.613564   \n",
       "21  The complaint you filed is a duplicate of a co...  BROOKLYN  40.630096   \n",
       "26  The complaint you filed is a duplicate of a co...  BROOKLYN  40.673297   \n",
       "\n",
       "    Longitude  \n",
       "9  -73.892812  \n",
       "14 -73.949260  \n",
       "20 -73.979362  \n",
       "21 -73.944757  \n",
       "26 -73.961592  "
      ]
     },
     "execution_count": 14,
     "metadata": {},
     "output_type": "execute_result"
    }
   ],
   "source": [
    "df_Top1_brooklyn = df_Top1_complaint[(df_Top1_complaint['Borough'].isin(['BROOKLYN']))]\n",
    "df_Top1_brooklyn.head() "
   ]
  },
  {
   "cell_type": "code",
   "execution_count": null,
   "metadata": {},
   "outputs": [],
   "source": [
    "#create pickle file\n",
    "\n",
    "df_Top1_complaint.to_pickle('./df_Top1_complaint.pkl')   #\"df_test3\"=Name of data frame\n",
    "\n",
    "#upload pickle file\n",
    "\n",
    "client_cred.upload_file('./df_Top1_complaint.pkl',bucket,'df_Top1_complaint_cos.pkl')"
   ]
  },
  {
   "cell_type": "markdown",
   "metadata": {},
   "source": [
    "# 1. Prepare PLUTO data set (house characteristics for all addresses in Brooklyn) for merging"
   ]
  },
  {
   "cell_type": "markdown",
   "metadata": {},
   "source": [
    "#### Load PLUTO data set for Brooklyn"
   ]
  },
  {
   "cell_type": "code",
   "execution_count": 13,
   "metadata": {},
   "outputs": [
    {
     "data": {
      "text/html": [
       "<div>\n",
       "<style scoped>\n",
       "    .dataframe tbody tr th:only-of-type {\n",
       "        vertical-align: middle;\n",
       "    }\n",
       "\n",
       "    .dataframe tbody tr th {\n",
       "        vertical-align: top;\n",
       "    }\n",
       "\n",
       "    .dataframe thead th {\n",
       "        text-align: right;\n",
       "    }\n",
       "</style>\n",
       "<table border=\"1\" class=\"dataframe\">\n",
       "  <thead>\n",
       "    <tr style=\"text-align: right;\">\n",
       "      <th></th>\n",
       "      <th>Borough</th>\n",
       "      <th>Block</th>\n",
       "      <th>Lot</th>\n",
       "      <th>CD</th>\n",
       "      <th>CT2010</th>\n",
       "      <th>CB2010</th>\n",
       "      <th>SchoolDist</th>\n",
       "      <th>Council</th>\n",
       "      <th>ZipCode</th>\n",
       "      <th>FireComp</th>\n",
       "      <th>...</th>\n",
       "      <th>ZMCode</th>\n",
       "      <th>Sanborn</th>\n",
       "      <th>TaxMap</th>\n",
       "      <th>EDesigNum</th>\n",
       "      <th>APPBBL</th>\n",
       "      <th>APPDate</th>\n",
       "      <th>PLUTOMapID</th>\n",
       "      <th>FIRM07_FLAG</th>\n",
       "      <th>PFIRM15_FLAG</th>\n",
       "      <th>Version</th>\n",
       "    </tr>\n",
       "  </thead>\n",
       "  <tbody>\n",
       "    <tr>\n",
       "      <th>0</th>\n",
       "      <td>BK</td>\n",
       "      <td>1</td>\n",
       "      <td>1</td>\n",
       "      <td>302</td>\n",
       "      <td>21.0</td>\n",
       "      <td>NaN</td>\n",
       "      <td>13.0</td>\n",
       "      <td>33.0</td>\n",
       "      <td>11201.0</td>\n",
       "      <td>L118</td>\n",
       "      <td>...</td>\n",
       "      <td>NaN</td>\n",
       "      <td>302 007</td>\n",
       "      <td>30101.0</td>\n",
       "      <td>NaN</td>\n",
       "      <td>3.000010e+09</td>\n",
       "      <td>11/26/2013</td>\n",
       "      <td>1</td>\n",
       "      <td>1.0</td>\n",
       "      <td>1.0</td>\n",
       "      <td>18V1</td>\n",
       "    </tr>\n",
       "    <tr>\n",
       "      <th>1</th>\n",
       "      <td>BK</td>\n",
       "      <td>1</td>\n",
       "      <td>50</td>\n",
       "      <td>302</td>\n",
       "      <td>21.0</td>\n",
       "      <td>2000.0</td>\n",
       "      <td>13.0</td>\n",
       "      <td>33.0</td>\n",
       "      <td>11201.0</td>\n",
       "      <td>L118</td>\n",
       "      <td>...</td>\n",
       "      <td>NaN</td>\n",
       "      <td>302 007</td>\n",
       "      <td>30101.0</td>\n",
       "      <td>E-231</td>\n",
       "      <td>0.000000e+00</td>\n",
       "      <td>NaN</td>\n",
       "      <td>1</td>\n",
       "      <td>1.0</td>\n",
       "      <td>1.0</td>\n",
       "      <td>18V1</td>\n",
       "    </tr>\n",
       "    <tr>\n",
       "      <th>2</th>\n",
       "      <td>BK</td>\n",
       "      <td>1</td>\n",
       "      <td>7501</td>\n",
       "      <td>302</td>\n",
       "      <td>21.0</td>\n",
       "      <td>2000.0</td>\n",
       "      <td>13.0</td>\n",
       "      <td>33.0</td>\n",
       "      <td>11201.0</td>\n",
       "      <td>L118</td>\n",
       "      <td>...</td>\n",
       "      <td>NaN</td>\n",
       "      <td>302 007</td>\n",
       "      <td>30101.0</td>\n",
       "      <td>NaN</td>\n",
       "      <td>3.000010e+09</td>\n",
       "      <td>03/04/2016</td>\n",
       "      <td>1</td>\n",
       "      <td>1.0</td>\n",
       "      <td>1.0</td>\n",
       "      <td>18V1</td>\n",
       "    </tr>\n",
       "    <tr>\n",
       "      <th>3</th>\n",
       "      <td>BK</td>\n",
       "      <td>3</td>\n",
       "      <td>1</td>\n",
       "      <td>302</td>\n",
       "      <td>21.0</td>\n",
       "      <td>3002.0</td>\n",
       "      <td>13.0</td>\n",
       "      <td>33.0</td>\n",
       "      <td>11201.0</td>\n",
       "      <td>L118</td>\n",
       "      <td>...</td>\n",
       "      <td>NaN</td>\n",
       "      <td>302 007</td>\n",
       "      <td>30101.0</td>\n",
       "      <td>NaN</td>\n",
       "      <td>0.000000e+00</td>\n",
       "      <td>NaN</td>\n",
       "      <td>1</td>\n",
       "      <td>1.0</td>\n",
       "      <td>1.0</td>\n",
       "      <td>18V1</td>\n",
       "    </tr>\n",
       "    <tr>\n",
       "      <th>4</th>\n",
       "      <td>BK</td>\n",
       "      <td>3</td>\n",
       "      <td>5</td>\n",
       "      <td>302</td>\n",
       "      <td>21.0</td>\n",
       "      <td>NaN</td>\n",
       "      <td>13.0</td>\n",
       "      <td>33.0</td>\n",
       "      <td>11201.0</td>\n",
       "      <td>L118</td>\n",
       "      <td>...</td>\n",
       "      <td>NaN</td>\n",
       "      <td>302 007</td>\n",
       "      <td>30101.0</td>\n",
       "      <td>NaN</td>\n",
       "      <td>0.000000e+00</td>\n",
       "      <td>NaN</td>\n",
       "      <td>4</td>\n",
       "      <td>1.0</td>\n",
       "      <td>1.0</td>\n",
       "      <td>18V1</td>\n",
       "    </tr>\n",
       "  </tbody>\n",
       "</table>\n",
       "<p>5 rows × 87 columns</p>\n",
       "</div>"
      ],
      "text/plain": [
       "  Borough  Block   Lot   CD  CT2010  CB2010  SchoolDist  Council  ZipCode  \\\n",
       "0      BK      1     1  302    21.0     NaN        13.0     33.0  11201.0   \n",
       "1      BK      1    50  302    21.0  2000.0        13.0     33.0  11201.0   \n",
       "2      BK      1  7501  302    21.0  2000.0        13.0     33.0  11201.0   \n",
       "3      BK      3     1  302    21.0  3002.0        13.0     33.0  11201.0   \n",
       "4      BK      3     5  302    21.0     NaN        13.0     33.0  11201.0   \n",
       "\n",
       "  FireComp  ...  ZMCode  Sanborn   TaxMap  EDesigNum        APPBBL  \\\n",
       "0     L118  ...     NaN  302 007  30101.0        NaN  3.000010e+09   \n",
       "1     L118  ...     NaN  302 007  30101.0      E-231  0.000000e+00   \n",
       "2     L118  ...     NaN  302 007  30101.0        NaN  3.000010e+09   \n",
       "3     L118  ...     NaN  302 007  30101.0        NaN  0.000000e+00   \n",
       "4     L118  ...     NaN  302 007  30101.0        NaN  0.000000e+00   \n",
       "\n",
       "      APPDate PLUTOMapID FIRM07_FLAG PFIRM15_FLAG Version  \n",
       "0  11/26/2013          1         1.0          1.0    18V1  \n",
       "1         NaN          1         1.0          1.0    18V1  \n",
       "2  03/04/2016          1         1.0          1.0    18V1  \n",
       "3         NaN          1         1.0          1.0    18V1  \n",
       "4         NaN          4         1.0          1.0    18V1  \n",
       "\n",
       "[5 rows x 87 columns]"
      ]
     },
     "execution_count": 13,
     "metadata": {},
     "output_type": "execute_result"
    }
   ],
   "source": [
    "body = client_71372c36e9a34232ac120f9c0e55467b.get_object(Bucket='datascienceandmachinelearningcaps-donotdelete-pr-7g85dz51ixpokk',Key='BK_18v1.csv')['Body']\n",
    "# add missing __iter__ method, so pandas accepts body as file-like object\n",
    "if not hasattr(body, \"__iter__\"): body.__iter__ = types.MethodType( __iter__, body )\n",
    "\n",
    "df_data_2 = pd.read_csv(body)\n",
    "df_data_2.head()\n",
    "#list complaints according to boroughs with count; put the list to new frame\n",
    "\n",
    "                                                      \n",
    "body = client_71372c36e9a34232ac120f9c0e55467b.get_object(Bucket='datascienceandmachinelearningcaps-donotdelete-pr-7g85dz51ixpokk',Key='BK_18v1.csv')['Body']\n",
    "# add missing __iter__ method, so pandas accepts body as file-like object\n",
    "if not hasattr(body, \"__iter__\"): body.__iter__ = types.MethodType( __iter__, body )\n",
    "\n",
    "df_PLUTO_brooklyn_big = pd.read_csv(body)\n",
    "df_PLUTO_brooklyn_big.head()\n",
    "                                                  "
   ]
  },
  {
   "cell_type": "markdown",
   "metadata": {},
   "source": [
    "#### Cut the relevant colums out of the Brooklyn PLUTO dataset "
   ]
  },
  {
   "cell_type": "markdown",
   "metadata": {},
   "source": [
    "### Prepare PLUTO data set - with relevant house characteristcs"
   ]
  },
  {
   "cell_type": "markdown",
   "metadata": {},
   "source": [
    "House characteristcs: NumBldgs, NumFloors, BldgDepth, YearBuilt, LotDepth"
   ]
  },
  {
   "cell_type": "code",
   "execution_count": 19,
   "metadata": {},
   "outputs": [
    {
     "data": {
      "text/html": [
       "<div>\n",
       "<style scoped>\n",
       "    .dataframe tbody tr th:only-of-type {\n",
       "        vertical-align: middle;\n",
       "    }\n",
       "\n",
       "    .dataframe tbody tr th {\n",
       "        vertical-align: top;\n",
       "    }\n",
       "\n",
       "    .dataframe thead th {\n",
       "        text-align: right;\n",
       "    }\n",
       "</style>\n",
       "<table border=\"1\" class=\"dataframe\">\n",
       "  <thead>\n",
       "    <tr style=\"text-align: right;\">\n",
       "      <th></th>\n",
       "      <th>Address</th>\n",
       "      <th>NumBldgs</th>\n",
       "      <th>NumFloors</th>\n",
       "      <th>BldgDepth</th>\n",
       "      <th>YearBuilt</th>\n",
       "      <th>LotDepth</th>\n",
       "    </tr>\n",
       "  </thead>\n",
       "  <tbody>\n",
       "    <tr>\n",
       "      <th>0</th>\n",
       "      <td>JOHN STREET</td>\n",
       "      <td>0</td>\n",
       "      <td>0.0</td>\n",
       "      <td>0.0</td>\n",
       "      <td>0</td>\n",
       "      <td>337.42</td>\n",
       "    </tr>\n",
       "    <tr>\n",
       "      <th>1</th>\n",
       "      <td>10 JAY STREET</td>\n",
       "      <td>1</td>\n",
       "      <td>10.0</td>\n",
       "      <td>195.0</td>\n",
       "      <td>1920</td>\n",
       "      <td>207.25</td>\n",
       "    </tr>\n",
       "    <tr>\n",
       "      <th>2</th>\n",
       "      <td>1 JOHN STREET</td>\n",
       "      <td>1</td>\n",
       "      <td>12.0</td>\n",
       "      <td>0.0</td>\n",
       "      <td>0</td>\n",
       "      <td>0.00</td>\n",
       "    </tr>\n",
       "    <tr>\n",
       "      <th>3</th>\n",
       "      <td>JAY STREET</td>\n",
       "      <td>15</td>\n",
       "      <td>0.0</td>\n",
       "      <td>0.0</td>\n",
       "      <td>0</td>\n",
       "      <td>469.00</td>\n",
       "    </tr>\n",
       "    <tr>\n",
       "      <th>4</th>\n",
       "      <td>JAY STREET</td>\n",
       "      <td>0</td>\n",
       "      <td>0.0</td>\n",
       "      <td>0.0</td>\n",
       "      <td>0</td>\n",
       "      <td>0.00</td>\n",
       "    </tr>\n",
       "  </tbody>\n",
       "</table>\n",
       "</div>"
      ],
      "text/plain": [
       "         Address  NumBldgs  NumFloors  BldgDepth  YearBuilt  LotDepth\n",
       "0    JOHN STREET         0        0.0        0.0          0    337.42\n",
       "1  10 JAY STREET         1       10.0      195.0       1920    207.25\n",
       "2  1 JOHN STREET         1       12.0        0.0          0      0.00\n",
       "3     JAY STREET        15        0.0        0.0          0    469.00\n",
       "4     JAY STREET         0        0.0        0.0          0      0.00"
      ]
     },
     "execution_count": 19,
     "metadata": {},
     "output_type": "execute_result"
    }
   ],
   "source": [
    "df_PLUTO_brookl_short = df_PLUTO_brooklyn_big[['Address','NumBldgs', 'NumFloors', 'BldgDepth', 'YearBuilt', 'LotDepth']].copy()\n",
    "#'Address','NumBldgs', 'NumFloors', 'BldgDepth', 'YearBuilt', 'LotDepth\n",
    "df_PLUTO_brookl_short.head()                             "
   ]
  },
  {
   "cell_type": "markdown",
   "metadata": {},
   "source": [
    " #### PLUTO vorbereiten: Addresse als Index (1) und die relevanten Housing Features als weitere Spalten (2) "
   ]
  },
  {
   "cell_type": "markdown",
   "metadata": {},
   "source": [
    "#### build new data frame"
   ]
  },
  {
   "cell_type": "code",
   "execution_count": 20,
   "metadata": {},
   "outputs": [
    {
     "data": {
      "text/html": [
       "<div>\n",
       "<style scoped>\n",
       "    .dataframe tbody tr th:only-of-type {\n",
       "        vertical-align: middle;\n",
       "    }\n",
       "\n",
       "    .dataframe tbody tr th {\n",
       "        vertical-align: top;\n",
       "    }\n",
       "\n",
       "    .dataframe thead th {\n",
       "        text-align: right;\n",
       "    }\n",
       "</style>\n",
       "<table border=\"1\" class=\"dataframe\">\n",
       "  <thead>\n",
       "    <tr style=\"text-align: right;\">\n",
       "      <th></th>\n",
       "      <th>Address</th>\n",
       "      <th>NumBldgs</th>\n",
       "      <th>NumFloors</th>\n",
       "      <th>BldgDepth</th>\n",
       "      <th>YearBuilt</th>\n",
       "      <th>LotDepth</th>\n",
       "    </tr>\n",
       "  </thead>\n",
       "  <tbody>\n",
       "    <tr>\n",
       "      <th>0</th>\n",
       "      <td>JOHN STREET</td>\n",
       "      <td>0</td>\n",
       "      <td>0.0</td>\n",
       "      <td>0.0</td>\n",
       "      <td>0</td>\n",
       "      <td>337.42</td>\n",
       "    </tr>\n",
       "    <tr>\n",
       "      <th>1</th>\n",
       "      <td>10 JAY STREET</td>\n",
       "      <td>1</td>\n",
       "      <td>10.0</td>\n",
       "      <td>195.0</td>\n",
       "      <td>1920</td>\n",
       "      <td>207.25</td>\n",
       "    </tr>\n",
       "    <tr>\n",
       "      <th>2</th>\n",
       "      <td>1 JOHN STREET</td>\n",
       "      <td>1</td>\n",
       "      <td>12.0</td>\n",
       "      <td>0.0</td>\n",
       "      <td>0</td>\n",
       "      <td>0.00</td>\n",
       "    </tr>\n",
       "    <tr>\n",
       "      <th>3</th>\n",
       "      <td>JAY STREET</td>\n",
       "      <td>15</td>\n",
       "      <td>0.0</td>\n",
       "      <td>0.0</td>\n",
       "      <td>0</td>\n",
       "      <td>469.00</td>\n",
       "    </tr>\n",
       "    <tr>\n",
       "      <th>4</th>\n",
       "      <td>JAY STREET</td>\n",
       "      <td>0</td>\n",
       "      <td>0.0</td>\n",
       "      <td>0.0</td>\n",
       "      <td>0</td>\n",
       "      <td>0.00</td>\n",
       "    </tr>\n",
       "  </tbody>\n",
       "</table>\n",
       "</div>"
      ],
      "text/plain": [
       "         Address  NumBldgs  NumFloors  BldgDepth  YearBuilt  LotDepth\n",
       "0    JOHN STREET         0        0.0        0.0          0    337.42\n",
       "1  10 JAY STREET         1       10.0      195.0       1920    207.25\n",
       "2  1 JOHN STREET         1       12.0        0.0          0      0.00\n",
       "3     JAY STREET        15        0.0        0.0          0    469.00\n",
       "4     JAY STREET         0        0.0        0.0          0      0.00"
      ]
     },
     "execution_count": 20,
     "metadata": {},
     "output_type": "execute_result"
    }
   ],
   "source": [
    "df_Pluto=df_PLUTO_brookl_short\n",
    "df_Pluto.head()"
   ]
  },
  {
   "cell_type": "code",
   "execution_count": 21,
   "metadata": {},
   "outputs": [],
   "source": [
    "# for sake of consistency, make all column labels of type string\n",
    "df_Pluto.columns = list(map(str, df_Pluto.columns))"
   ]
  },
  {
   "cell_type": "code",
   "execution_count": 22,
   "metadata": {},
   "outputs": [
    {
     "data": {
      "text/html": [
       "<div>\n",
       "<style scoped>\n",
       "    .dataframe tbody tr th:only-of-type {\n",
       "        vertical-align: middle;\n",
       "    }\n",
       "\n",
       "    .dataframe tbody tr th {\n",
       "        vertical-align: top;\n",
       "    }\n",
       "\n",
       "    .dataframe thead th {\n",
       "        text-align: right;\n",
       "    }\n",
       "</style>\n",
       "<table border=\"1\" class=\"dataframe\">\n",
       "  <thead>\n",
       "    <tr style=\"text-align: right;\">\n",
       "      <th></th>\n",
       "      <th>Address</th>\n",
       "      <th>NumBldgs</th>\n",
       "      <th>NumFloors</th>\n",
       "      <th>BldgDepth</th>\n",
       "      <th>YearBuilt</th>\n",
       "      <th>LotDepth</th>\n",
       "    </tr>\n",
       "  </thead>\n",
       "  <tbody>\n",
       "    <tr>\n",
       "      <th>0</th>\n",
       "      <td>JOHN STREET</td>\n",
       "      <td>0</td>\n",
       "      <td>0.0</td>\n",
       "      <td>0.0</td>\n",
       "      <td>0</td>\n",
       "      <td>337.42</td>\n",
       "    </tr>\n",
       "    <tr>\n",
       "      <th>1</th>\n",
       "      <td>10 JAY STREET</td>\n",
       "      <td>1</td>\n",
       "      <td>10.0</td>\n",
       "      <td>195.0</td>\n",
       "      <td>1920</td>\n",
       "      <td>207.25</td>\n",
       "    </tr>\n",
       "    <tr>\n",
       "      <th>2</th>\n",
       "      <td>1 JOHN STREET</td>\n",
       "      <td>1</td>\n",
       "      <td>12.0</td>\n",
       "      <td>0.0</td>\n",
       "      <td>0</td>\n",
       "      <td>0.00</td>\n",
       "    </tr>\n",
       "    <tr>\n",
       "      <th>3</th>\n",
       "      <td>JAY STREET</td>\n",
       "      <td>15</td>\n",
       "      <td>0.0</td>\n",
       "      <td>0.0</td>\n",
       "      <td>0</td>\n",
       "      <td>469.00</td>\n",
       "    </tr>\n",
       "    <tr>\n",
       "      <th>4</th>\n",
       "      <td>JAY STREET</td>\n",
       "      <td>0</td>\n",
       "      <td>0.0</td>\n",
       "      <td>0.0</td>\n",
       "      <td>0</td>\n",
       "      <td>0.00</td>\n",
       "    </tr>\n",
       "  </tbody>\n",
       "</table>\n",
       "</div>"
      ],
      "text/plain": [
       "         Address  NumBldgs  NumFloors  BldgDepth  YearBuilt  LotDepth\n",
       "0    JOHN STREET         0        0.0        0.0          0    337.42\n",
       "1  10 JAY STREET         1       10.0      195.0       1920    207.25\n",
       "2  1 JOHN STREET         1       12.0        0.0          0      0.00\n",
       "3     JAY STREET        15        0.0        0.0          0    469.00\n",
       "4     JAY STREET         0        0.0        0.0          0      0.00"
      ]
     },
     "execution_count": 22,
     "metadata": {},
     "output_type": "execute_result"
    }
   ],
   "source": [
    "df_Pluto.head()"
   ]
  },
  {
   "cell_type": "code",
   "execution_count": 23,
   "metadata": {},
   "outputs": [],
   "source": [
    "# set Address as index \n",
    "df_Pluto.set_index('Address', inplace=True)"
   ]
  },
  {
   "cell_type": "code",
   "execution_count": 24,
   "metadata": {},
   "outputs": [
    {
     "data": {
      "text/html": [
       "<div>\n",
       "<style scoped>\n",
       "    .dataframe tbody tr th:only-of-type {\n",
       "        vertical-align: middle;\n",
       "    }\n",
       "\n",
       "    .dataframe tbody tr th {\n",
       "        vertical-align: top;\n",
       "    }\n",
       "\n",
       "    .dataframe thead th {\n",
       "        text-align: right;\n",
       "    }\n",
       "</style>\n",
       "<table border=\"1\" class=\"dataframe\">\n",
       "  <thead>\n",
       "    <tr style=\"text-align: right;\">\n",
       "      <th></th>\n",
       "      <th>NumBldgs</th>\n",
       "      <th>NumFloors</th>\n",
       "      <th>BldgDepth</th>\n",
       "      <th>YearBuilt</th>\n",
       "      <th>LotDepth</th>\n",
       "    </tr>\n",
       "    <tr>\n",
       "      <th>Address</th>\n",
       "      <th></th>\n",
       "      <th></th>\n",
       "      <th></th>\n",
       "      <th></th>\n",
       "      <th></th>\n",
       "    </tr>\n",
       "  </thead>\n",
       "  <tbody>\n",
       "    <tr>\n",
       "      <th>JOHN STREET</th>\n",
       "      <td>0</td>\n",
       "      <td>0.0</td>\n",
       "      <td>0.0</td>\n",
       "      <td>0</td>\n",
       "      <td>337.42</td>\n",
       "    </tr>\n",
       "    <tr>\n",
       "      <th>10 JAY STREET</th>\n",
       "      <td>1</td>\n",
       "      <td>10.0</td>\n",
       "      <td>195.0</td>\n",
       "      <td>1920</td>\n",
       "      <td>207.25</td>\n",
       "    </tr>\n",
       "    <tr>\n",
       "      <th>1 JOHN STREET</th>\n",
       "      <td>1</td>\n",
       "      <td>12.0</td>\n",
       "      <td>0.0</td>\n",
       "      <td>0</td>\n",
       "      <td>0.00</td>\n",
       "    </tr>\n",
       "    <tr>\n",
       "      <th>JAY STREET</th>\n",
       "      <td>15</td>\n",
       "      <td>0.0</td>\n",
       "      <td>0.0</td>\n",
       "      <td>0</td>\n",
       "      <td>469.00</td>\n",
       "    </tr>\n",
       "    <tr>\n",
       "      <th>JAY STREET</th>\n",
       "      <td>0</td>\n",
       "      <td>0.0</td>\n",
       "      <td>0.0</td>\n",
       "      <td>0</td>\n",
       "      <td>0.00</td>\n",
       "    </tr>\n",
       "  </tbody>\n",
       "</table>\n",
       "</div>"
      ],
      "text/plain": [
       "               NumBldgs  NumFloors  BldgDepth  YearBuilt  LotDepth\n",
       "Address                                                           \n",
       "JOHN STREET           0        0.0        0.0          0    337.42\n",
       "10 JAY STREET         1       10.0      195.0       1920    207.25\n",
       "1 JOHN STREET         1       12.0        0.0          0      0.00\n",
       "JAY STREET           15        0.0        0.0          0    469.00\n",
       "JAY STREET            0        0.0        0.0          0      0.00"
      ]
     },
     "execution_count": 24,
     "metadata": {},
     "output_type": "execute_result"
    }
   ],
   "source": [
    "df_Pluto.head()"
   ]
  },
  {
   "cell_type": "markdown",
   "metadata": {},
   "source": [
    "#see my own training lab from IBM course for preparing data in Pandas, e.g. dropping of columns, renaming, etc.\n",
    "https://labs.cognitiveclass.ai/tools/jupyterlab/lab/tree/labs/DV0101EN/DV0101EN-Exercise-Pie-Charts-Box-Plots-Scatter-Plots-and-Bubble-Plots-py.ipynb?lti=true"
   ]
  },
  {
   "cell_type": "markdown",
   "metadata": {},
   "source": [
    "# 3. Prepare top1 complaint data set - sorting according to addresses"
   ]
  },
  {
   "cell_type": "code",
   "execution_count": 25,
   "metadata": {},
   "outputs": [],
   "source": [
    "#1  list complaints according to Incident Address with count; put the list to new frame\n",
    "df_Top1_addresses = df_Top1_brooklyn[['Incident Address']]"
   ]
  },
  {
   "cell_type": "code",
   "execution_count": 27,
   "metadata": {},
   "outputs": [
    {
     "data": {
      "text/html": [
       "<div>\n",
       "<style scoped>\n",
       "    .dataframe tbody tr th:only-of-type {\n",
       "        vertical-align: middle;\n",
       "    }\n",
       "\n",
       "    .dataframe tbody tr th {\n",
       "        vertical-align: top;\n",
       "    }\n",
       "\n",
       "    .dataframe thead th {\n",
       "        text-align: right;\n",
       "    }\n",
       "</style>\n",
       "<table border=\"1\" class=\"dataframe\">\n",
       "  <thead>\n",
       "    <tr style=\"text-align: right;\">\n",
       "      <th></th>\n",
       "      <th>Incident Address</th>\n",
       "    </tr>\n",
       "  </thead>\n",
       "  <tbody>\n",
       "    <tr>\n",
       "      <th>9</th>\n",
       "      <td>303 WYONA STREET</td>\n",
       "    </tr>\n",
       "    <tr>\n",
       "      <th>14</th>\n",
       "      <td>297 LENOX ROAD</td>\n",
       "    </tr>\n",
       "    <tr>\n",
       "      <th>20</th>\n",
       "      <td>2270 64 STREET</td>\n",
       "    </tr>\n",
       "    <tr>\n",
       "      <th>21</th>\n",
       "      <td>1655 FLATBUSH AVENUE</td>\n",
       "    </tr>\n",
       "    <tr>\n",
       "      <th>26</th>\n",
       "      <td>500 ST JOHNS PLACE</td>\n",
       "    </tr>\n",
       "  </tbody>\n",
       "</table>\n",
       "</div>"
      ],
      "text/plain": [
       "        Incident Address\n",
       "9       303 WYONA STREET\n",
       "14        297 LENOX ROAD\n",
       "20        2270 64 STREET\n",
       "21  1655 FLATBUSH AVENUE\n",
       "26    500 ST JOHNS PLACE"
      ]
     },
     "execution_count": 27,
     "metadata": {},
     "output_type": "execute_result"
    }
   ],
   "source": [
    "df_Top1_addresses.head()"
   ]
  },
  {
   "cell_type": "code",
   "execution_count": 28,
   "metadata": {},
   "outputs": [],
   "source": [
    "df_Top1_AddressesCount = df_Top1_addresses['Incident Address'].value_counts().to_frame()"
   ]
  },
  {
   "cell_type": "code",
   "execution_count": 29,
   "metadata": {},
   "outputs": [
    {
     "data": {
      "text/html": [
       "<div>\n",
       "<style scoped>\n",
       "    .dataframe tbody tr th:only-of-type {\n",
       "        vertical-align: middle;\n",
       "    }\n",
       "\n",
       "    .dataframe tbody tr th {\n",
       "        vertical-align: top;\n",
       "    }\n",
       "\n",
       "    .dataframe thead th {\n",
       "        text-align: right;\n",
       "    }\n",
       "</style>\n",
       "<table border=\"1\" class=\"dataframe\">\n",
       "  <thead>\n",
       "    <tr style=\"text-align: right;\">\n",
       "      <th></th>\n",
       "      <th>Incident Address</th>\n",
       "    </tr>\n",
       "  </thead>\n",
       "  <tbody>\n",
       "    <tr>\n",
       "      <th>9511 SHORE ROAD</th>\n",
       "      <td>4587</td>\n",
       "    </tr>\n",
       "    <tr>\n",
       "      <th>1711 FULTON STREET</th>\n",
       "      <td>2776</td>\n",
       "    </tr>\n",
       "    <tr>\n",
       "      <th>2750 HOMECREST AVENUE</th>\n",
       "      <td>2390</td>\n",
       "    </tr>\n",
       "    <tr>\n",
       "      <th>109 NORTH    7 STREET</th>\n",
       "      <td>1712</td>\n",
       "    </tr>\n",
       "    <tr>\n",
       "      <th>381 VERNON AVENUE</th>\n",
       "      <td>1421</td>\n",
       "    </tr>\n",
       "  </tbody>\n",
       "</table>\n",
       "</div>"
      ],
      "text/plain": [
       "                       Incident Address\n",
       "9511 SHORE ROAD                    4587\n",
       "1711 FULTON STREET                 2776\n",
       "2750 HOMECREST AVENUE              2390\n",
       "109 NORTH    7 STREET              1712\n",
       "381 VERNON AVENUE                  1421"
      ]
     },
     "execution_count": 29,
     "metadata": {},
     "output_type": "execute_result"
    }
   ],
   "source": [
    "df_Top1_AddressesCount.head()"
   ]
  },
  {
   "cell_type": "code",
   "execution_count": 31,
   "metadata": {},
   "outputs": [],
   "source": [
    "#rename the index to 'Address':\n",
    "df_Top1_AddressesCount.index.name = 'Address'\n"
   ]
  },
  {
   "cell_type": "code",
   "execution_count": 32,
   "metadata": {},
   "outputs": [
    {
     "data": {
      "text/html": [
       "<div>\n",
       "<style scoped>\n",
       "    .dataframe tbody tr th:only-of-type {\n",
       "        vertical-align: middle;\n",
       "    }\n",
       "\n",
       "    .dataframe tbody tr th {\n",
       "        vertical-align: top;\n",
       "    }\n",
       "\n",
       "    .dataframe thead th {\n",
       "        text-align: right;\n",
       "    }\n",
       "</style>\n",
       "<table border=\"1\" class=\"dataframe\">\n",
       "  <thead>\n",
       "    <tr style=\"text-align: right;\">\n",
       "      <th></th>\n",
       "      <th>Incident Address</th>\n",
       "    </tr>\n",
       "    <tr>\n",
       "      <th>Address</th>\n",
       "      <th></th>\n",
       "    </tr>\n",
       "  </thead>\n",
       "  <tbody>\n",
       "    <tr>\n",
       "      <th>9511 SHORE ROAD</th>\n",
       "      <td>4587</td>\n",
       "    </tr>\n",
       "    <tr>\n",
       "      <th>1711 FULTON STREET</th>\n",
       "      <td>2776</td>\n",
       "    </tr>\n",
       "    <tr>\n",
       "      <th>2750 HOMECREST AVENUE</th>\n",
       "      <td>2390</td>\n",
       "    </tr>\n",
       "    <tr>\n",
       "      <th>109 NORTH    7 STREET</th>\n",
       "      <td>1712</td>\n",
       "    </tr>\n",
       "    <tr>\n",
       "      <th>381 VERNON AVENUE</th>\n",
       "      <td>1421</td>\n",
       "    </tr>\n",
       "  </tbody>\n",
       "</table>\n",
       "</div>"
      ],
      "text/plain": [
       "                       Incident Address\n",
       "Address                                \n",
       "9511 SHORE ROAD                    4587\n",
       "1711 FULTON STREET                 2776\n",
       "2750 HOMECREST AVENUE              2390\n",
       "109 NORTH    7 STREET              1712\n",
       "381 VERNON AVENUE                  1421"
      ]
     },
     "execution_count": 32,
     "metadata": {},
     "output_type": "execute_result"
    }
   ],
   "source": [
    "df_Top1_AddressesCount.head()"
   ]
  },
  {
   "cell_type": "markdown",
   "metadata": {},
   "source": [
    "##### create test data frame for testing the approach"
   ]
  },
  {
   "cell_type": "code",
   "execution_count": 33,
   "metadata": {},
   "outputs": [],
   "source": [
    "#change colums names\n",
    "df_Top1_AddressesCount.rename(columns={'Incident Address' : 'Count'}, inplace=True )"
   ]
  },
  {
   "cell_type": "code",
   "execution_count": 34,
   "metadata": {},
   "outputs": [
    {
     "data": {
      "text/html": [
       "<div>\n",
       "<style scoped>\n",
       "    .dataframe tbody tr th:only-of-type {\n",
       "        vertical-align: middle;\n",
       "    }\n",
       "\n",
       "    .dataframe tbody tr th {\n",
       "        vertical-align: top;\n",
       "    }\n",
       "\n",
       "    .dataframe thead th {\n",
       "        text-align: right;\n",
       "    }\n",
       "</style>\n",
       "<table border=\"1\" class=\"dataframe\">\n",
       "  <thead>\n",
       "    <tr style=\"text-align: right;\">\n",
       "      <th></th>\n",
       "      <th>Count</th>\n",
       "    </tr>\n",
       "    <tr>\n",
       "      <th>Address</th>\n",
       "      <th></th>\n",
       "    </tr>\n",
       "  </thead>\n",
       "  <tbody>\n",
       "    <tr>\n",
       "      <th>9511 SHORE ROAD</th>\n",
       "      <td>4587</td>\n",
       "    </tr>\n",
       "    <tr>\n",
       "      <th>1711 FULTON STREET</th>\n",
       "      <td>2776</td>\n",
       "    </tr>\n",
       "    <tr>\n",
       "      <th>2750 HOMECREST AVENUE</th>\n",
       "      <td>2390</td>\n",
       "    </tr>\n",
       "    <tr>\n",
       "      <th>109 NORTH    7 STREET</th>\n",
       "      <td>1712</td>\n",
       "    </tr>\n",
       "    <tr>\n",
       "      <th>381 VERNON AVENUE</th>\n",
       "      <td>1421</td>\n",
       "    </tr>\n",
       "  </tbody>\n",
       "</table>\n",
       "</div>"
      ],
      "text/plain": [
       "                       Count\n",
       "Address                     \n",
       "9511 SHORE ROAD         4587\n",
       "1711 FULTON STREET      2776\n",
       "2750 HOMECREST AVENUE   2390\n",
       "109 NORTH    7 STREET   1712\n",
       "381 VERNON AVENUE       1421"
      ]
     },
     "execution_count": 34,
     "metadata": {},
     "output_type": "execute_result"
    }
   ],
   "source": [
    "df_Top1_AddressesCount.head()"
   ]
  },
  {
   "cell_type": "code",
   "execution_count": 36,
   "metadata": {},
   "outputs": [],
   "source": [
    "# for sake of consistency, make all column labels of type string\n",
    "df_Top1_AddressesCount.columns = list(map(str, df_Top1_AddressesCount.columns))"
   ]
  },
  {
   "cell_type": "code",
   "execution_count": 37,
   "metadata": {},
   "outputs": [],
   "source": [
    "#for sake of simplicity, rename data frame \n",
    "df_top1_brook=df_Top1_AddressesCount\n"
   ]
  },
  {
   "cell_type": "markdown",
   "metadata": {},
   "source": [
    "# 4. Show the two data sets"
   ]
  },
  {
   "cell_type": "code",
   "execution_count": 38,
   "metadata": {},
   "outputs": [
    {
     "name": "stdout",
     "output_type": "stream",
     "text": [
      "(34416, 1)\n"
     ]
    },
    {
     "data": {
      "text/html": [
       "<div>\n",
       "<style scoped>\n",
       "    .dataframe tbody tr th:only-of-type {\n",
       "        vertical-align: middle;\n",
       "    }\n",
       "\n",
       "    .dataframe tbody tr th {\n",
       "        vertical-align: top;\n",
       "    }\n",
       "\n",
       "    .dataframe thead th {\n",
       "        text-align: right;\n",
       "    }\n",
       "</style>\n",
       "<table border=\"1\" class=\"dataframe\">\n",
       "  <thead>\n",
       "    <tr style=\"text-align: right;\">\n",
       "      <th></th>\n",
       "      <th>Count</th>\n",
       "    </tr>\n",
       "    <tr>\n",
       "      <th>Address</th>\n",
       "      <th></th>\n",
       "    </tr>\n",
       "  </thead>\n",
       "  <tbody>\n",
       "    <tr>\n",
       "      <th>9511 SHORE ROAD</th>\n",
       "      <td>4587</td>\n",
       "    </tr>\n",
       "    <tr>\n",
       "      <th>1711 FULTON STREET</th>\n",
       "      <td>2776</td>\n",
       "    </tr>\n",
       "    <tr>\n",
       "      <th>2750 HOMECREST AVENUE</th>\n",
       "      <td>2390</td>\n",
       "    </tr>\n",
       "    <tr>\n",
       "      <th>109 NORTH    7 STREET</th>\n",
       "      <td>1712</td>\n",
       "    </tr>\n",
       "    <tr>\n",
       "      <th>381 VERNON AVENUE</th>\n",
       "      <td>1421</td>\n",
       "    </tr>\n",
       "  </tbody>\n",
       "</table>\n",
       "</div>"
      ],
      "text/plain": [
       "                       Count\n",
       "Address                     \n",
       "9511 SHORE ROAD         4587\n",
       "1711 FULTON STREET      2776\n",
       "2750 HOMECREST AVENUE   2390\n",
       "109 NORTH    7 STREET   1712\n",
       "381 VERNON AVENUE       1421"
      ]
     },
     "execution_count": 38,
     "metadata": {},
     "output_type": "execute_result"
    }
   ],
   "source": [
    "print(df_top1_brook.shape)\n",
    "df_top1_brook.head()"
   ]
  },
  {
   "cell_type": "code",
   "execution_count": 39,
   "metadata": {},
   "outputs": [
    {
     "name": "stdout",
     "output_type": "stream",
     "text": [
      "(277316, 5)\n"
     ]
    },
    {
     "data": {
      "text/html": [
       "<div>\n",
       "<style scoped>\n",
       "    .dataframe tbody tr th:only-of-type {\n",
       "        vertical-align: middle;\n",
       "    }\n",
       "\n",
       "    .dataframe tbody tr th {\n",
       "        vertical-align: top;\n",
       "    }\n",
       "\n",
       "    .dataframe thead th {\n",
       "        text-align: right;\n",
       "    }\n",
       "</style>\n",
       "<table border=\"1\" class=\"dataframe\">\n",
       "  <thead>\n",
       "    <tr style=\"text-align: right;\">\n",
       "      <th></th>\n",
       "      <th>NumBldgs</th>\n",
       "      <th>NumFloors</th>\n",
       "      <th>BldgDepth</th>\n",
       "      <th>YearBuilt</th>\n",
       "      <th>LotDepth</th>\n",
       "    </tr>\n",
       "    <tr>\n",
       "      <th>Address</th>\n",
       "      <th></th>\n",
       "      <th></th>\n",
       "      <th></th>\n",
       "      <th></th>\n",
       "      <th></th>\n",
       "    </tr>\n",
       "  </thead>\n",
       "  <tbody>\n",
       "    <tr>\n",
       "      <th>JOHN STREET</th>\n",
       "      <td>0</td>\n",
       "      <td>0.0</td>\n",
       "      <td>0.0</td>\n",
       "      <td>0</td>\n",
       "      <td>337.42</td>\n",
       "    </tr>\n",
       "    <tr>\n",
       "      <th>10 JAY STREET</th>\n",
       "      <td>1</td>\n",
       "      <td>10.0</td>\n",
       "      <td>195.0</td>\n",
       "      <td>1920</td>\n",
       "      <td>207.25</td>\n",
       "    </tr>\n",
       "    <tr>\n",
       "      <th>1 JOHN STREET</th>\n",
       "      <td>1</td>\n",
       "      <td>12.0</td>\n",
       "      <td>0.0</td>\n",
       "      <td>0</td>\n",
       "      <td>0.00</td>\n",
       "    </tr>\n",
       "    <tr>\n",
       "      <th>JAY STREET</th>\n",
       "      <td>15</td>\n",
       "      <td>0.0</td>\n",
       "      <td>0.0</td>\n",
       "      <td>0</td>\n",
       "      <td>469.00</td>\n",
       "    </tr>\n",
       "    <tr>\n",
       "      <th>JAY STREET</th>\n",
       "      <td>0</td>\n",
       "      <td>0.0</td>\n",
       "      <td>0.0</td>\n",
       "      <td>0</td>\n",
       "      <td>0.00</td>\n",
       "    </tr>\n",
       "  </tbody>\n",
       "</table>\n",
       "</div>"
      ],
      "text/plain": [
       "               NumBldgs  NumFloors  BldgDepth  YearBuilt  LotDepth\n",
       "Address                                                           \n",
       "JOHN STREET           0        0.0        0.0          0    337.42\n",
       "10 JAY STREET         1       10.0      195.0       1920    207.25\n",
       "1 JOHN STREET         1       12.0        0.0          0      0.00\n",
       "JAY STREET           15        0.0        0.0          0    469.00\n",
       "JAY STREET            0        0.0        0.0          0      0.00"
      ]
     },
     "execution_count": 39,
     "metadata": {},
     "output_type": "execute_result"
    }
   ],
   "source": [
    "print(df_Pluto.shape)\n",
    "df_Pluto.head()"
   ]
  },
  {
   "cell_type": "markdown",
   "metadata": {},
   "source": [
    "# 5. Join the two data sets"
   ]
  },
  {
   "cell_type": "markdown",
   "metadata": {},
   "source": [
    "#### join 311 dataset - top1 complaints for brookly - with PLUTO dataset for brooklyn"
   ]
  },
  {
   "cell_type": "code",
   "execution_count": 40,
   "metadata": {},
   "outputs": [],
   "source": [
    "df1=df_top1_brook\n",
    "df2=df_Pluto"
   ]
  },
  {
   "cell_type": "code",
   "execution_count": 41,
   "metadata": {},
   "outputs": [],
   "source": [
    "df_inner_join = pd.merge(df1,  \n",
    "                      df2,  \n",
    "                      on ='Address',  \n",
    "                      how ='inner') \n",
    "#With \"how: inner\" we get only the rows where both data sets overlap"
   ]
  },
  {
   "cell_type": "code",
   "execution_count": 43,
   "metadata": {},
   "outputs": [],
   "source": [
    "df_joined=df_inner_join"
   ]
  },
  {
   "cell_type": "code",
   "execution_count": 44,
   "metadata": {},
   "outputs": [
    {
     "data": {
      "text/html": [
       "<div>\n",
       "<style scoped>\n",
       "    .dataframe tbody tr th:only-of-type {\n",
       "        vertical-align: middle;\n",
       "    }\n",
       "\n",
       "    .dataframe tbody tr th {\n",
       "        vertical-align: top;\n",
       "    }\n",
       "\n",
       "    .dataframe thead th {\n",
       "        text-align: right;\n",
       "    }\n",
       "</style>\n",
       "<table border=\"1\" class=\"dataframe\">\n",
       "  <thead>\n",
       "    <tr style=\"text-align: right;\">\n",
       "      <th></th>\n",
       "      <th>Count</th>\n",
       "      <th>NumBldgs</th>\n",
       "      <th>NumFloors</th>\n",
       "      <th>BldgDepth</th>\n",
       "      <th>YearBuilt</th>\n",
       "      <th>LotDepth</th>\n",
       "    </tr>\n",
       "    <tr>\n",
       "      <th>Address</th>\n",
       "      <th></th>\n",
       "      <th></th>\n",
       "      <th></th>\n",
       "      <th></th>\n",
       "      <th></th>\n",
       "      <th></th>\n",
       "    </tr>\n",
       "  </thead>\n",
       "  <tbody>\n",
       "    <tr>\n",
       "      <th>9511 SHORE ROAD</th>\n",
       "      <td>4587</td>\n",
       "      <td>1</td>\n",
       "      <td>6.0</td>\n",
       "      <td>0.0</td>\n",
       "      <td>1957</td>\n",
       "      <td>0.00</td>\n",
       "    </tr>\n",
       "    <tr>\n",
       "      <th>2750 HOMECREST AVENUE</th>\n",
       "      <td>2390</td>\n",
       "      <td>1</td>\n",
       "      <td>7.0</td>\n",
       "      <td>163.0</td>\n",
       "      <td>1959</td>\n",
       "      <td>110.75</td>\n",
       "    </tr>\n",
       "    <tr>\n",
       "      <th>381 VERNON AVENUE</th>\n",
       "      <td>1421</td>\n",
       "      <td>2</td>\n",
       "      <td>2.0</td>\n",
       "      <td>48.0</td>\n",
       "      <td>1899</td>\n",
       "      <td>100.00</td>\n",
       "    </tr>\n",
       "    <tr>\n",
       "      <th>712 CROWN STREET</th>\n",
       "      <td>1238</td>\n",
       "      <td>1</td>\n",
       "      <td>6.0</td>\n",
       "      <td>200.0</td>\n",
       "      <td>1926</td>\n",
       "      <td>200.00</td>\n",
       "    </tr>\n",
       "    <tr>\n",
       "      <th>170 HAWTHORNE STREET</th>\n",
       "      <td>1101</td>\n",
       "      <td>1</td>\n",
       "      <td>6.0</td>\n",
       "      <td>90.5</td>\n",
       "      <td>1941</td>\n",
       "      <td>106.00</td>\n",
       "    </tr>\n",
       "  </tbody>\n",
       "</table>\n",
       "</div>"
      ],
      "text/plain": [
       "                       Count  NumBldgs  NumFloors  BldgDepth  YearBuilt  \\\n",
       "Address                                                                   \n",
       "9511 SHORE ROAD         4587         1        6.0        0.0       1957   \n",
       "2750 HOMECREST AVENUE   2390         1        7.0      163.0       1959   \n",
       "381 VERNON AVENUE       1421         2        2.0       48.0       1899   \n",
       "712 CROWN STREET        1238         1        6.0      200.0       1926   \n",
       "170 HAWTHORNE STREET    1101         1        6.0       90.5       1941   \n",
       "\n",
       "                       LotDepth  \n",
       "Address                          \n",
       "9511 SHORE ROAD            0.00  \n",
       "2750 HOMECREST AVENUE    110.75  \n",
       "381 VERNON AVENUE        100.00  \n",
       "712 CROWN STREET         200.00  \n",
       "170 HAWTHORNE STREET     106.00  "
      ]
     },
     "execution_count": 44,
     "metadata": {},
     "output_type": "execute_result"
    }
   ],
   "source": [
    "df_joined.head()"
   ]
  },
  {
   "cell_type": "code",
   "execution_count": 45,
   "metadata": {},
   "outputs": [
    {
     "data": {
      "text/plain": [
       "(26985, 6)"
      ]
     },
     "execution_count": 45,
     "metadata": {},
     "output_type": "execute_result"
    }
   ],
   "source": [
    "df_joined.shape"
   ]
  },
  {
   "cell_type": "markdown",
   "metadata": {},
   "source": [
    "There are many adresses in the 311 data set that PLUTO data set doesn´t contain. \n",
    "Thus the new joined data set only contains much less addresses than the 311 data set for brooklyn with top1 complaints."
   ]
  },
  {
   "cell_type": "markdown",
   "metadata": {},
   "source": [
    "#### Articles on merging data sets (\"vlookup for pandas\")\n",
    "- Most helpful article on vlookup using pandas: https://www.geeksforgeeks.org/how-to-do-a-vlookup-in-python-using-pandas/\n",
    "- Big and good article on merging: https://medium.com/importexcel/common-excel-task-in-python-vlookup-with-pandas-merge-c99d4e108988\n",
    "- Other article: https://stackoverflow.com/questions/25493625/vlookup-in-pandas-using-join"
   ]
  },
  {
   "cell_type": "markdown",
   "metadata": {},
   "source": [
    "#### Store joined data set in new pickle file (\"df_joined\")"
   ]
  },
  {
   "cell_type": "code",
   "execution_count": 47,
   "metadata": {},
   "outputs": [],
   "source": [
    "#create pickle file\n",
    "df_joined.to_pickle('./df_joined.pkl')   #\"df_test3\"=Name of data frame\n",
    "\n",
    "#upload pickle file\n",
    "client_cred.upload_file('./df_joined.pkl',bucket,'df_joined_cos.pkl')"
   ]
  },
  {
   "cell_type": "markdown",
   "metadata": {},
   "source": [
    "\n",
    "\n",
    "# 6. Wrangling data \n"
   ]
  },
  {
   "cell_type": "code",
   "execution_count": 48,
   "metadata": {},
   "outputs": [],
   "source": [
    "#1 replace \"?\" to NaN\n",
    "df_joined.replace(\"?\", np.nan, inplace = True)"
   ]
  },
  {
   "cell_type": "markdown",
   "metadata": {},
   "source": [
    "1. Entweder Nullen durch mean ersetzen oder Zeilen löschen; m.E. wird das Ergebnis durch den mean verfälscht"
   ]
  },
  {
   "cell_type": "markdown",
   "metadata": {},
   "source": [
    "#### Replace 0s by NaN \n",
    "(Reason: For example 0 can´t be the actual value, for if there is a building, there have to be at least one floor.)"
   ]
  },
  {
   "cell_type": "code",
   "execution_count": 49,
   "metadata": {},
   "outputs": [],
   "source": [
    "df_joined.replace(0, np.nan, inplace = True)"
   ]
  },
  {
   "cell_type": "code",
   "execution_count": 50,
   "metadata": {},
   "outputs": [
    {
     "data": {
      "text/html": [
       "<div>\n",
       "<style scoped>\n",
       "    .dataframe tbody tr th:only-of-type {\n",
       "        vertical-align: middle;\n",
       "    }\n",
       "\n",
       "    .dataframe tbody tr th {\n",
       "        vertical-align: top;\n",
       "    }\n",
       "\n",
       "    .dataframe thead th {\n",
       "        text-align: right;\n",
       "    }\n",
       "</style>\n",
       "<table border=\"1\" class=\"dataframe\">\n",
       "  <thead>\n",
       "    <tr style=\"text-align: right;\">\n",
       "      <th></th>\n",
       "      <th>Count</th>\n",
       "      <th>NumBldgs</th>\n",
       "      <th>NumFloors</th>\n",
       "      <th>BldgDepth</th>\n",
       "      <th>YearBuilt</th>\n",
       "      <th>LotDepth</th>\n",
       "    </tr>\n",
       "    <tr>\n",
       "      <th>Address</th>\n",
       "      <th></th>\n",
       "      <th></th>\n",
       "      <th></th>\n",
       "      <th></th>\n",
       "      <th></th>\n",
       "      <th></th>\n",
       "    </tr>\n",
       "  </thead>\n",
       "  <tbody>\n",
       "    <tr>\n",
       "      <th>9511 SHORE ROAD</th>\n",
       "      <td>4587</td>\n",
       "      <td>1.0</td>\n",
       "      <td>6.0</td>\n",
       "      <td>NaN</td>\n",
       "      <td>1957.0</td>\n",
       "      <td>NaN</td>\n",
       "    </tr>\n",
       "    <tr>\n",
       "      <th>2750 HOMECREST AVENUE</th>\n",
       "      <td>2390</td>\n",
       "      <td>1.0</td>\n",
       "      <td>7.0</td>\n",
       "      <td>163.0</td>\n",
       "      <td>1959.0</td>\n",
       "      <td>110.75</td>\n",
       "    </tr>\n",
       "    <tr>\n",
       "      <th>381 VERNON AVENUE</th>\n",
       "      <td>1421</td>\n",
       "      <td>2.0</td>\n",
       "      <td>2.0</td>\n",
       "      <td>48.0</td>\n",
       "      <td>1899.0</td>\n",
       "      <td>100.00</td>\n",
       "    </tr>\n",
       "    <tr>\n",
       "      <th>712 CROWN STREET</th>\n",
       "      <td>1238</td>\n",
       "      <td>1.0</td>\n",
       "      <td>6.0</td>\n",
       "      <td>200.0</td>\n",
       "      <td>1926.0</td>\n",
       "      <td>200.00</td>\n",
       "    </tr>\n",
       "    <tr>\n",
       "      <th>170 HAWTHORNE STREET</th>\n",
       "      <td>1101</td>\n",
       "      <td>1.0</td>\n",
       "      <td>6.0</td>\n",
       "      <td>90.5</td>\n",
       "      <td>1941.0</td>\n",
       "      <td>106.00</td>\n",
       "    </tr>\n",
       "  </tbody>\n",
       "</table>\n",
       "</div>"
      ],
      "text/plain": [
       "                       Count  NumBldgs  NumFloors  BldgDepth  YearBuilt  \\\n",
       "Address                                                                   \n",
       "9511 SHORE ROAD         4587       1.0        6.0        NaN     1957.0   \n",
       "2750 HOMECREST AVENUE   2390       1.0        7.0      163.0     1959.0   \n",
       "381 VERNON AVENUE       1421       2.0        2.0       48.0     1899.0   \n",
       "712 CROWN STREET        1238       1.0        6.0      200.0     1926.0   \n",
       "170 HAWTHORNE STREET    1101       1.0        6.0       90.5     1941.0   \n",
       "\n",
       "                       LotDepth  \n",
       "Address                          \n",
       "9511 SHORE ROAD             NaN  \n",
       "2750 HOMECREST AVENUE    110.75  \n",
       "381 VERNON AVENUE        100.00  \n",
       "712 CROWN STREET         200.00  \n",
       "170 HAWTHORNE STREET     106.00  "
      ]
     },
     "execution_count": 50,
     "metadata": {},
     "output_type": "execute_result"
    }
   ],
   "source": [
    "df_joined.head()"
   ]
  },
  {
   "cell_type": "markdown",
   "metadata": {},
   "source": [
    "#### Store data set in new pickle file (\"df_joined\")"
   ]
  },
  {
   "cell_type": "code",
   "execution_count": 51,
   "metadata": {},
   "outputs": [],
   "source": [
    "#create pickle file\n",
    "df_joined.to_pickle('./df_joined.pkl')   #\"df_...\"=Name of data frame\n",
    "\n",
    "#upload pickle file\n",
    "client_cred.upload_file('./df_joined.pkl',bucket,'df_joined_cos.pkl')"
   ]
  },
  {
   "cell_type": "markdown",
   "metadata": {},
   "source": [
    "#### Pickle file einlesen"
   ]
  },
  {
   "cell_type": "code",
   "execution_count": 63,
   "metadata": {},
   "outputs": [],
   "source": [
    "# Download the file from Cloud Object Store:\n",
    "client_cred.download_file(Bucket=bucket,Key='df_joined_cos.pkl',Filename='./df_joined_local.pkl')\n",
    "\n",
    "#Create a Dataframe out of the file:\n",
    "df_joined = pd.read_pickle('./df_joined_local.pkl')"
   ]
  },
  {
   "cell_type": "markdown",
   "metadata": {},
   "source": [
    "#### Count NaNs "
   ]
  },
  {
   "cell_type": "code",
   "execution_count": 52,
   "metadata": {},
   "outputs": [],
   "source": [
    "#creating a new help data frame with \"true\", if NaN and \"false\" if not NaN\n",
    "missing_data = df_joined.isnull()            "
   ]
  },
  {
   "cell_type": "code",
   "execution_count": 53,
   "metadata": {},
   "outputs": [
    {
     "data": {
      "text/html": [
       "<div>\n",
       "<style scoped>\n",
       "    .dataframe tbody tr th:only-of-type {\n",
       "        vertical-align: middle;\n",
       "    }\n",
       "\n",
       "    .dataframe tbody tr th {\n",
       "        vertical-align: top;\n",
       "    }\n",
       "\n",
       "    .dataframe thead th {\n",
       "        text-align: right;\n",
       "    }\n",
       "</style>\n",
       "<table border=\"1\" class=\"dataframe\">\n",
       "  <thead>\n",
       "    <tr style=\"text-align: right;\">\n",
       "      <th></th>\n",
       "      <th>Count</th>\n",
       "      <th>NumBldgs</th>\n",
       "      <th>NumFloors</th>\n",
       "      <th>BldgDepth</th>\n",
       "      <th>YearBuilt</th>\n",
       "      <th>LotDepth</th>\n",
       "    </tr>\n",
       "    <tr>\n",
       "      <th>Address</th>\n",
       "      <th></th>\n",
       "      <th></th>\n",
       "      <th></th>\n",
       "      <th></th>\n",
       "      <th></th>\n",
       "      <th></th>\n",
       "    </tr>\n",
       "  </thead>\n",
       "  <tbody>\n",
       "    <tr>\n",
       "      <th>9511 SHORE ROAD</th>\n",
       "      <td>False</td>\n",
       "      <td>False</td>\n",
       "      <td>False</td>\n",
       "      <td>True</td>\n",
       "      <td>False</td>\n",
       "      <td>True</td>\n",
       "    </tr>\n",
       "    <tr>\n",
       "      <th>2750 HOMECREST AVENUE</th>\n",
       "      <td>False</td>\n",
       "      <td>False</td>\n",
       "      <td>False</td>\n",
       "      <td>False</td>\n",
       "      <td>False</td>\n",
       "      <td>False</td>\n",
       "    </tr>\n",
       "    <tr>\n",
       "      <th>381 VERNON AVENUE</th>\n",
       "      <td>False</td>\n",
       "      <td>False</td>\n",
       "      <td>False</td>\n",
       "      <td>False</td>\n",
       "      <td>False</td>\n",
       "      <td>False</td>\n",
       "    </tr>\n",
       "  </tbody>\n",
       "</table>\n",
       "</div>"
      ],
      "text/plain": [
       "                       Count  NumBldgs  NumFloors  BldgDepth  YearBuilt  \\\n",
       "Address                                                                   \n",
       "9511 SHORE ROAD        False     False      False       True      False   \n",
       "2750 HOMECREST AVENUE  False     False      False      False      False   \n",
       "381 VERNON AVENUE      False     False      False      False      False   \n",
       "\n",
       "                       LotDepth  \n",
       "Address                          \n",
       "9511 SHORE ROAD            True  \n",
       "2750 HOMECREST AVENUE     False  \n",
       "381 VERNON AVENUE         False  "
      ]
     },
     "execution_count": 53,
     "metadata": {},
     "output_type": "execute_result"
    }
   ],
   "source": [
    "missing_data.head(3)"
   ]
  },
  {
   "cell_type": "code",
   "execution_count": 54,
   "metadata": {},
   "outputs": [
    {
     "name": "stdout",
     "output_type": "stream",
     "text": [
      "Count\n",
      "False    26985\n",
      "Name: Count, dtype: int64\n",
      "\n",
      "NumBldgs\n",
      "False    26859\n",
      "True       126\n",
      "Name: NumBldgs, dtype: int64\n",
      "\n",
      "NumFloors\n",
      "False    26839\n",
      "True       146\n",
      "Name: NumFloors, dtype: int64\n",
      "\n",
      "BldgDepth\n",
      "False    26619\n",
      "True       366\n",
      "Name: BldgDepth, dtype: int64\n",
      "\n",
      "YearBuilt\n",
      "False    26805\n",
      "True       180\n",
      "Name: YearBuilt, dtype: int64\n",
      "\n",
      "LotDepth\n",
      "False    26887\n",
      "True        98\n",
      "Name: LotDepth, dtype: int64\n",
      "\n"
     ]
    }
   ],
   "source": [
    "#Count missing values in each column\n",
    "\n",
    "#Using a for loop in Python, we can quickly figure out the number of missing values in each column. \n",
    "     #In the body of the for loop the method \".value_counts()\" counts the number of \"True\" values.\n",
    "\n",
    "for column in missing_data.columns.values.tolist():\n",
    "    print(column)\n",
    "    print (missing_data[column].value_counts())\n",
    "    print(\"\")    "
   ]
  },
  {
   "cell_type": "markdown",
   "metadata": {},
   "source": [
    "### Build a new data set without NaNs with ALL 5 features "
   ]
  },
  {
   "cell_type": "code",
   "execution_count": 64,
   "metadata": {},
   "outputs": [
    {
     "name": "stdout",
     "output_type": "stream",
     "text": [
      "(26554, 6)\n"
     ]
    }
   ],
   "source": [
    "# drop lines with NaN\n",
    "df_joined_clean=df_joined.dropna()\n",
    "print(df_joined_clean.shape)"
   ]
  },
  {
   "cell_type": "code",
   "execution_count": 65,
   "metadata": {},
   "outputs": [
    {
     "data": {
      "text/html": [
       "<div>\n",
       "<style scoped>\n",
       "    .dataframe tbody tr th:only-of-type {\n",
       "        vertical-align: middle;\n",
       "    }\n",
       "\n",
       "    .dataframe tbody tr th {\n",
       "        vertical-align: top;\n",
       "    }\n",
       "\n",
       "    .dataframe thead th {\n",
       "        text-align: right;\n",
       "    }\n",
       "</style>\n",
       "<table border=\"1\" class=\"dataframe\">\n",
       "  <thead>\n",
       "    <tr style=\"text-align: right;\">\n",
       "      <th></th>\n",
       "      <th>Count</th>\n",
       "      <th>NumBldgs</th>\n",
       "      <th>NumFloors</th>\n",
       "      <th>BldgDepth</th>\n",
       "      <th>YearBuilt</th>\n",
       "      <th>LotDepth</th>\n",
       "    </tr>\n",
       "    <tr>\n",
       "      <th>Address</th>\n",
       "      <th></th>\n",
       "      <th></th>\n",
       "      <th></th>\n",
       "      <th></th>\n",
       "      <th></th>\n",
       "      <th></th>\n",
       "    </tr>\n",
       "  </thead>\n",
       "  <tbody>\n",
       "    <tr>\n",
       "      <th>2750 HOMECREST AVENUE</th>\n",
       "      <td>2390</td>\n",
       "      <td>1.0</td>\n",
       "      <td>7.0</td>\n",
       "      <td>163.0</td>\n",
       "      <td>1959.0</td>\n",
       "      <td>110.75</td>\n",
       "    </tr>\n",
       "    <tr>\n",
       "      <th>381 VERNON AVENUE</th>\n",
       "      <td>1421</td>\n",
       "      <td>2.0</td>\n",
       "      <td>2.0</td>\n",
       "      <td>48.0</td>\n",
       "      <td>1899.0</td>\n",
       "      <td>100.00</td>\n",
       "    </tr>\n",
       "    <tr>\n",
       "      <th>712 CROWN STREET</th>\n",
       "      <td>1238</td>\n",
       "      <td>1.0</td>\n",
       "      <td>6.0</td>\n",
       "      <td>200.0</td>\n",
       "      <td>1926.0</td>\n",
       "      <td>200.00</td>\n",
       "    </tr>\n",
       "    <tr>\n",
       "      <th>170 HAWTHORNE STREET</th>\n",
       "      <td>1101</td>\n",
       "      <td>1.0</td>\n",
       "      <td>6.0</td>\n",
       "      <td>90.5</td>\n",
       "      <td>1941.0</td>\n",
       "      <td>106.00</td>\n",
       "    </tr>\n",
       "    <tr>\n",
       "      <th>417 LORIMER STREET</th>\n",
       "      <td>1061</td>\n",
       "      <td>1.0</td>\n",
       "      <td>3.0</td>\n",
       "      <td>120.5</td>\n",
       "      <td>1984.0</td>\n",
       "      <td>127.00</td>\n",
       "    </tr>\n",
       "  </tbody>\n",
       "</table>\n",
       "</div>"
      ],
      "text/plain": [
       "                       Count  NumBldgs  NumFloors  BldgDepth  YearBuilt  \\\n",
       "Address                                                                   \n",
       "2750 HOMECREST AVENUE   2390       1.0        7.0      163.0     1959.0   \n",
       "381 VERNON AVENUE       1421       2.0        2.0       48.0     1899.0   \n",
       "712 CROWN STREET        1238       1.0        6.0      200.0     1926.0   \n",
       "170 HAWTHORNE STREET    1101       1.0        6.0       90.5     1941.0   \n",
       "417 LORIMER STREET      1061       1.0        3.0      120.5     1984.0   \n",
       "\n",
       "                       LotDepth  \n",
       "Address                          \n",
       "2750 HOMECREST AVENUE    110.75  \n",
       "381 VERNON AVENUE        100.00  \n",
       "712 CROWN STREET         200.00  \n",
       "170 HAWTHORNE STREET     106.00  \n",
       "417 LORIMER STREET       127.00  "
      ]
     },
     "execution_count": 65,
     "metadata": {},
     "output_type": "execute_result"
    }
   ],
   "source": [
    "df_joined_clean.head()"
   ]
  },
  {
   "cell_type": "markdown",
   "metadata": {},
   "source": [
    "#### Store \"df_joined_clean\" as a 3rd  pickle file \"df_joined_clean\""
   ]
  },
  {
   "cell_type": "code",
   "execution_count": 66,
   "metadata": {},
   "outputs": [],
   "source": [
    "#create pickle file\n",
    "df_joined_clean.to_pickle('./df_joined_clean.pkl')   #\"df_test3\"=Name of data frame\n",
    "\n",
    "#upload pickle file\n",
    "client_cred.upload_file('./df_joined_clean.pkl',bucket,'df_joined_clean_cos.pkl')"
   ]
  },
  {
   "cell_type": "markdown",
   "metadata": {},
   "source": [
    "# 7. Evaluate correlation between 5 building features and number of complaints"
   ]
  },
  {
   "cell_type": "code",
   "execution_count": 67,
   "metadata": {},
   "outputs": [],
   "source": [
    "df_clean =df_joined_clean "
   ]
  },
  {
   "cell_type": "code",
   "execution_count": 68,
   "metadata": {},
   "outputs": [
    {
     "data": {
      "text/html": [
       "<div>\n",
       "<style scoped>\n",
       "    .dataframe tbody tr th:only-of-type {\n",
       "        vertical-align: middle;\n",
       "    }\n",
       "\n",
       "    .dataframe tbody tr th {\n",
       "        vertical-align: top;\n",
       "    }\n",
       "\n",
       "    .dataframe thead th {\n",
       "        text-align: right;\n",
       "    }\n",
       "</style>\n",
       "<table border=\"1\" class=\"dataframe\">\n",
       "  <thead>\n",
       "    <tr style=\"text-align: right;\">\n",
       "      <th></th>\n",
       "      <th>Count</th>\n",
       "      <th>NumBldgs</th>\n",
       "      <th>NumFloors</th>\n",
       "      <th>BldgDepth</th>\n",
       "      <th>YearBuilt</th>\n",
       "      <th>LotDepth</th>\n",
       "    </tr>\n",
       "  </thead>\n",
       "  <tbody>\n",
       "    <tr>\n",
       "      <th>Count</th>\n",
       "      <td>1.000000</td>\n",
       "      <td>-0.007790</td>\n",
       "      <td>0.186924</td>\n",
       "      <td>0.113899</td>\n",
       "      <td>0.005077</td>\n",
       "      <td>0.096160</td>\n",
       "    </tr>\n",
       "    <tr>\n",
       "      <th>NumBldgs</th>\n",
       "      <td>-0.007790</td>\n",
       "      <td>1.000000</td>\n",
       "      <td>0.024480</td>\n",
       "      <td>0.038057</td>\n",
       "      <td>0.019592</td>\n",
       "      <td>0.300519</td>\n",
       "    </tr>\n",
       "    <tr>\n",
       "      <th>NumFloors</th>\n",
       "      <td>0.186924</td>\n",
       "      <td>0.024480</td>\n",
       "      <td>1.000000</td>\n",
       "      <td>0.241874</td>\n",
       "      <td>0.181049</td>\n",
       "      <td>0.332159</td>\n",
       "    </tr>\n",
       "    <tr>\n",
       "      <th>BldgDepth</th>\n",
       "      <td>0.113899</td>\n",
       "      <td>0.038057</td>\n",
       "      <td>0.241874</td>\n",
       "      <td>1.000000</td>\n",
       "      <td>0.074846</td>\n",
       "      <td>0.324990</td>\n",
       "    </tr>\n",
       "    <tr>\n",
       "      <th>YearBuilt</th>\n",
       "      <td>0.005077</td>\n",
       "      <td>0.019592</td>\n",
       "      <td>0.181049</td>\n",
       "      <td>0.074846</td>\n",
       "      <td>1.000000</td>\n",
       "      <td>0.112793</td>\n",
       "    </tr>\n",
       "    <tr>\n",
       "      <th>LotDepth</th>\n",
       "      <td>0.096160</td>\n",
       "      <td>0.300519</td>\n",
       "      <td>0.332159</td>\n",
       "      <td>0.324990</td>\n",
       "      <td>0.112793</td>\n",
       "      <td>1.000000</td>\n",
       "    </tr>\n",
       "  </tbody>\n",
       "</table>\n",
       "</div>"
      ],
      "text/plain": [
       "              Count  NumBldgs  NumFloors  BldgDepth  YearBuilt  LotDepth\n",
       "Count      1.000000 -0.007790   0.186924   0.113899   0.005077  0.096160\n",
       "NumBldgs  -0.007790  1.000000   0.024480   0.038057   0.019592  0.300519\n",
       "NumFloors  0.186924  0.024480   1.000000   0.241874   0.181049  0.332159\n",
       "BldgDepth  0.113899  0.038057   0.241874   1.000000   0.074846  0.324990\n",
       "YearBuilt  0.005077  0.019592   0.181049   0.074846   1.000000  0.112793\n",
       "LotDepth   0.096160  0.300519   0.332159   0.324990   0.112793  1.000000"
      ]
     },
     "execution_count": 68,
     "metadata": {},
     "output_type": "execute_result"
    }
   ],
   "source": [
    "df_clean.corr()"
   ]
  },
  {
   "cell_type": "markdown",
   "metadata": {},
   "source": [
    "## Regression Analysis for the 5 features"
   ]
  },
  {
   "cell_type": "markdown",
   "metadata": {},
   "source": [
    "#### #1 NumBldgs"
   ]
  },
  {
   "cell_type": "code",
   "execution_count": 69,
   "metadata": {},
   "outputs": [
    {
     "data": {
      "text/plain": [
       "<matplotlib.axes._subplots.AxesSubplot at 0x7f9d2f967668>"
      ]
     },
     "execution_count": 69,
     "metadata": {},
     "output_type": "execute_result"
    },
    {
     "data": {
      "image/png": "[encoded data removed]",
      "text/plain": [
       "<Figure size 432x288 with 1 Axes>"
      ]
     },
     "metadata": {
      "needs_background": "light"
     },
     "output_type": "display_data"
    }
   ],
   "source": [
    "# NumBldgs as potential predictor variable of Count\n",
    "sns.regplot(x=\"NumBldgs\", y=\"Count\", data=df_clean)\n"
   ]
  },
  {
   "cell_type": "markdown",
   "metadata": {},
   "source": [
    "NumBldgs does not seem like a good predictor of the occurence of complaints at all since the regression line is close to horizontal. \n",
    "Also, the data points are very scattered and far from the fitted line, showing lots of variability. Therefore it's it is not a reliable variable.\n"
   ]
  },
  {
   "cell_type": "markdown",
   "metadata": {},
   "source": [
    "#### #2 NumFloors"
   ]
  },
  {
   "cell_type": "code",
   "execution_count": 70,
   "metadata": {},
   "outputs": [
    {
     "data": {
      "text/plain": [
       "<matplotlib.axes._subplots.AxesSubplot at 0x7f9d2f6f0780>"
      ]
     },
     "execution_count": 70,
     "metadata": {},
     "output_type": "execute_result"
    },
    {
     "data": {
      "image/png": "[encoded data removed]",
      "text/plain": [
       "<Figure size 432x288 with 1 Axes>"
      ]
     },
     "metadata": {
      "needs_background": "light"
     },
     "output_type": "display_data"
    }
   ],
   "source": [
    "# NumFloors as potential predictor variable of Count\n",
    "sns.regplot(x=\"NumFloors\", y=\"Count\", data=df_clean)"
   ]
  },
  {
   "cell_type": "markdown",
   "metadata": {},
   "source": [
    "There is a weak correlation between NumFloors and number of complaints. But the data points are very scattert. For example we, both have a very high and a very low number of counts for number of floors close to 0.\n",
    "\n",
    "Thus we can´t say that there is a strong relationship between number of floors and number of complaints. "
   ]
  },
  {
   "cell_type": "markdown",
   "metadata": {},
   "source": [
    "#### #3 BldgDepth"
   ]
  },
  {
   "cell_type": "code",
   "execution_count": 71,
   "metadata": {},
   "outputs": [
    {
     "data": {
      "text/plain": [
       "<matplotlib.axes._subplots.AxesSubplot at 0x7f9d2f6d0e48>"
      ]
     },
     "execution_count": 71,
     "metadata": {},
     "output_type": "execute_result"
    },
    {
     "data": {
      "image/png": "[encoded data removed]",
      "text/plain": [
       "<Figure size 432x288 with 1 Axes>"
      ]
     },
     "metadata": {
      "needs_background": "light"
     },
     "output_type": "display_data"
    }
   ],
   "source": [
    "# BldgDepth as potential predictor variable of Count\n",
    "sns.regplot(x=\"BldgDepth\", y=\"Count\", data=df_clean) "
   ]
  },
  {
   "cell_type": "markdown",
   "metadata": {},
   "source": [
    "There is a weak correlation between BldgDepth and number of complaints. But the data points are very scattert. For example we, both have a very high and a very low number of counts for BldgDepth close to 0.\n",
    "\n",
    "Thus we can´t say that there is a strong relationship between BldgDepth and number of complaints."
   ]
  },
  {
   "cell_type": "markdown",
   "metadata": {},
   "source": [
    "#### #4 YearBuilt \t"
   ]
  },
  {
   "cell_type": "code",
   "execution_count": 72,
   "metadata": {},
   "outputs": [
    {
     "data": {
      "text/plain": [
       "<matplotlib.axes._subplots.AxesSubplot at 0x7f9d2f647278>"
      ]
     },
     "execution_count": 72,
     "metadata": {},
     "output_type": "execute_result"
    },
    {
     "data": {
      "image/png": "[encoded data removed]",
      "text/plain": [
       "<Figure size 432x288 with 1 Axes>"
      ]
     },
     "metadata": {
      "needs_background": "light"
     },
     "output_type": "display_data"
    }
   ],
   "source": [
    "# YearBuilt as potential predictor variable of Count\n",
    "sns.regplot(x=\"YearBuilt\", y=\"Count\", data=df_clean) "
   ]
  },
  {
   "cell_type": "markdown",
   "metadata": {},
   "source": [
    "YearBuilt does not seem like a good predictor of the occurence of complaints at all since the regression line is horizontal. Also, the data points are very scattered and far from the fitted line, showing lots of variability. \n",
    "\n",
    "Therefore YearBuilt is not a reliable variable."
   ]
  },
  {
   "cell_type": "markdown",
   "metadata": {},
   "source": [
    "#### #5 LotDepth"
   ]
  },
  {
   "cell_type": "code",
   "execution_count": 73,
   "metadata": {},
   "outputs": [
    {
     "data": {
      "text/plain": [
       "<matplotlib.axes._subplots.AxesSubplot at 0x7f9d2f6080f0>"
      ]
     },
     "execution_count": 73,
     "metadata": {},
     "output_type": "execute_result"
    },
    {
     "data": {
      "image/png": "[encoded data removed]",
      "text/plain": [
       "<Figure size 432x288 with 1 Axes>"
      ]
     },
     "metadata": {
      "needs_background": "light"
     },
     "output_type": "display_data"
    }
   ],
   "source": [
    "# LotDepth as potential predictor variable of Count\n",
    "sns.regplot(x=\"LotDepth\", y=\"Count\", data=df_clean) "
   ]
  },
  {
   "cell_type": "markdown",
   "metadata": {},
   "source": [
    "There is a weak correlation between LotDepth and number of complaints. But the data points are very scattert. For example we, both have a very high and a very low number of counts for BldgDepth close to 0.\n",
    "\n",
    "Thus we can´t say that there is a strong relationship between LotDepth and number of complaints.\n"
   ]
  },
  {
   "cell_type": "markdown",
   "metadata": {},
   "source": [
    "# 8. Answer\n",
    "#### Regression analysis shows that there is only zero to a very weak correlation between building characteristics and number of top1 complaints* in Brooklyn.** \n",
    "(And that there is even a weak and not zero correlation is based only on outliers.)\n",
    "#### The data points are very scattert. For example we both have a very high and a very low number of counts for the same value of the several features.\n",
    "#### Thus we can´t say that there is any strong relationship between one single or several building characteristcs and number of complaints."
   ]
  }
 ],
 "metadata": {
  "kernelspec": {
   "display_name": "Python 3.7",
   "language": "python",
   "name": "python3"
  },
  "language_info": {
   "codemirror_mode": {
    "name": "ipython",
    "version": 3
   },
   "file_extension": ".py",
   "mimetype": "text/x-python",
   "name": "python",
   "nbconvert_exporter": "python",
   "pygments_lexer": "ipython3",
   "version": "3.7.9"
  }
 },
 "nbformat": 4,
 "nbformat_minor": 1
}
